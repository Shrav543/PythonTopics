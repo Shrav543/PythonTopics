{
 "cells": [
  {
   "cell_type": "markdown",
   "metadata": {},
   "source": [
    "## Tuple "
   ]
  },
  {
   "cell_type": "raw",
   "metadata": {},
   "source": [
    "Python Tuples In python tuples are used to store immutable object. Python Tuples are very similar to lists except to some situations. Python tuples are immutable means that they can not be modified in whole program.\n",
    "\n",
    "Packing and Unpacking a Tuple : In Python there is a very powerful tuple assignment feature that assigns right hand side of values into left hand side. In other way it is called unpacking of a tuple of values into a variable. In packing, we put values into a new tuple while in unpacking we extract those values into a single variable.\n",
    "\n",
    "rules:\n",
    "number of elments in the tuple must have variables on the left hand site to assign value.\n",
    "but alternatively we can use * with a variable."
   ]
  },
  {
   "cell_type": "code",
   "execution_count": 86,
   "metadata": {},
   "outputs": [],
   "source": [
    "x, *y, z = (10, \"Geeks \", \" for \", \"Geeks \", 50)"
   ]
  },
  {
   "cell_type": "code",
   "execution_count": null,
   "metadata": {},
   "outputs": [],
   "source": []
  },
  {
   "cell_type": "code",
   "execution_count": null,
   "metadata": {},
   "outputs": [],
   "source": []
  },
  {
   "cell_type": "markdown",
   "metadata": {},
   "source": [
    "## Namedtuple\n",
    "\n",
    "import from collections"
   ]
  },
  {
   "cell_type": "raw",
   "metadata": {},
   "source": [
    "\n",
    "Python supports a type of container like dictionaries called “namedtuples()” present in module, “collections“.\n",
    "\n",
    "\n",
    "Like dictionaries they contain keys that are hashed to a particular value. But on contrary, it supports both access from key value and iteration, the functionality that dictionaries lack."
   ]
  },
  {
   "cell_type": "raw",
   "metadata": {},
   "source": [
    " Access by index"
   ]
  },
  {
   "cell_type": "raw",
   "metadata": {},
   "source": [
    " Access by Access by keyname"
   ]
  },
  {
   "cell_type": "raw",
   "metadata": {},
   "source": [
    " Aceess using getattr()"
   ]
  },
  {
   "cell_type": "code",
   "execution_count": null,
   "metadata": {},
   "outputs": [],
   "source": []
  },
  {
   "cell_type": "code",
   "execution_count": 93,
   "metadata": {},
   "outputs": [
    {
     "name": "stdout",
     "output_type": "stream",
     "text": [
      "The Student age using index is : 19\n",
      "The Student name using keyname is : Nandini\n",
      "The Student DOB using getattr() is : 2541997\n"
     ]
    }
   ],
   "source": [
    "# importing \"collections\" for namedtuple() \n",
    "import collections \n",
    "  \n",
    "# Declaring namedtuple() \n",
    "Student = collections.namedtuple('Student',['name','age','DOB']) \n",
    "  \n",
    "# Adding values \n",
    "S = Student('Nandini','19','2541997') \n",
    "  \n",
    "# Access using index \n",
    "print (\"The Student age using index is : \",end =\"\") \n",
    "print (S[1]) \n",
    "  \n",
    "# Access using name  \n",
    "print (\"The Student name using keyname is : \",end =\"\") \n",
    "print (S.name) \n",
    "  \n",
    "# Access using getattr() \n",
    "print (\"The Student DOB using getattr() is : \",end =\"\") \n",
    "print (getattr(S,'DOB')) "
   ]
  },
  {
   "cell_type": "code",
   "execution_count": null,
   "metadata": {},
   "outputs": [],
   "source": []
  },
  {
   "cell_type": "code",
   "execution_count": null,
   "metadata": {},
   "outputs": [],
   "source": []
  },
  {
   "cell_type": "code",
   "execution_count": null,
   "metadata": {},
   "outputs": [],
   "source": []
  },
  {
   "cell_type": "markdown",
   "metadata": {},
   "source": [
    "## Create Python Package"
   ]
  },
  {
   "cell_type": "raw",
   "metadata": {},
   "source": [
    "We know that a package may contain sub-packages and modules. A module is nothing but Python code.\n",
    "\n",
    "To create a Python package of our own, we create a directory and create a file __init__.py in it. We leave it empty. Then, in that package, we create a module(s) with whatever code we want"
   ]
  },
  {
   "cell_type": "code",
   "execution_count": null,
   "metadata": {},
   "outputs": [],
   "source": []
  },
  {
   "cell_type": "markdown",
   "metadata": {},
   "source": [
    "## Pypi"
   ]
  },
  {
   "cell_type": "raw",
   "metadata": {},
   "source": [
    "PyPI is the Python Package Index. This is a repository of software for Python. It has a large collection of packages and their binaries for a wide range of uses.\n",
    "\n",
    "when we use pip i.e. a package-management system\n",
    "it uses the packages from Pypi"
   ]
  },
  {
   "cell_type": "code",
   "execution_count": null,
   "metadata": {},
   "outputs": [],
   "source": []
  },
  {
   "cell_type": "markdown",
   "metadata": {},
   "source": [
    "## Pip"
   ]
  },
  {
   "cell_type": "raw",
   "metadata": {},
   "source": [
    "Pip will install the packages in\n",
    "\n",
    "Venv\\Lib\\site-packages\n",
    "\n",
    "\n",
    "we can \n",
    "\n",
    "pip show <packagename>\n",
    "to know the path"
   ]
  },
  {
   "cell_type": "code",
   "execution_count": null,
   "metadata": {},
   "outputs": [],
   "source": []
  },
  {
   "cell_type": "markdown",
   "metadata": {},
   "source": [
    "## Memory Management"
   ]
  },
  {
   "cell_type": "raw",
   "metadata": {},
   "source": [
    "Python has a private heap space to hold all objects and data structures. Being programmers, we cannot access it; it is the interpreter that manages it. But with the core API, we can access some tools. The Python memory manager controls the allocation.\n",
    "\n",
    "Additionally, an inbuilt garbage collector recycles all unused memory so it can make it available to the heap space."
   ]
  },
  {
   "cell_type": "code",
   "execution_count": null,
   "metadata": {},
   "outputs": [],
   "source": []
  },
  {
   "cell_type": "code",
   "execution_count": null,
   "metadata": {},
   "outputs": [],
   "source": []
  },
  {
   "cell_type": "markdown",
   "metadata": {},
   "source": [
    "## GIL ()"
   ]
  },
  {
   "cell_type": "raw",
   "metadata": {},
   "source": [
    "(mutex) is a program object that allows multiple program threads to share the same resource, such as file access, but not simultaneously.\n",
    "\n",
    "\n",
    "The GIL (Global Interpreter Lock) is a mutex that allows only one thread to hold access to the interpreter. That means only one thread can be in the state of execution at any given point of time.\n",
    "\n",
    "ensures that a single thread executes at a time.\n",
    "\n",
    "tick is a line of byte instruction code. so after a number of ticks the thread will release the GIL and give signals to other thread that they may use the interpreter.\n",
    "\n",
    "due to this there are overheads\n",
    "\n",
    "thread signaling\n",
    "awaking another thread\n",
    "acquiring GIL\n",
    "\n",
    "A thread holds the GIL and does a little work before passing it on to the next thread. This makes for an illusion of parallel execution. \n",
    "\n",
    "But in reality, it is just threaded taking turns at the CPU. Of course, all the passing around adds overhead to the execution.\n",
    "\n",
    "\n",
    "GIL advantages:\n",
    "\n",
    "in case of multithreadig we need to handle race condition while sharing shared resources.\n",
    "\n",
    "\n",
    "create a lock()\n",
    "lock= multiprocessing.lock()\n",
    "acquire the interpereter while using the shared resources\n",
    "\n",
    "lock.acquire()\n",
    "<code using shared resources>\n",
    "lock.release()\n",
    "\n",
    "now the gil can be used by other thread"
   ]
  },
  {
   "cell_type": "code",
   "execution_count": null,
   "metadata": {},
   "outputs": [],
   "source": []
  },
  {
   "cell_type": "code",
   "execution_count": null,
   "metadata": {},
   "outputs": [],
   "source": []
  },
  {
   "cell_type": "markdown",
   "metadata": {},
   "source": [
    "## inheritance in Django"
   ]
  },
  {
   "cell_type": "raw",
   "metadata": {},
   "source": [
    "Inheritance Styles in Django.\n",
    "\n",
    "Talking on inheritance styles, we have three possible-\n",
    "\n",
    "Abstract Base Classes- For the parent class to hold information so we don’t have to type it out for each child model\n",
    "\n",
    "Multi-table Inheritance- For subclassing an existing model and letting each model have its own database\n",
    "\n",
    "Proxy Models- For modifying the model’s Python-level behavior without having to change its fields"
   ]
  },
  {
   "cell_type": "code",
   "execution_count": null,
   "metadata": {},
   "outputs": [],
   "source": []
  },
  {
   "cell_type": "markdown",
   "metadata": {},
   "source": [
    "## Polymorphism"
   ]
  },
  {
   "cell_type": "code",
   "execution_count": null,
   "metadata": {},
   "outputs": [],
   "source": [
    "1. method overriding\n",
    "2. method overloading\n",
    "\n",
    "in python we dont have method overloading. the latest definintion of the method stands valid.\n",
    "\n",
    "where we can have 2 methods with same name but different parameters:\n",
    "    so we can use the trick where we defined the max number of inputs possible and assign the default value to None.\n",
    "    and then check all the combination of arguments that can be passed.\n",
    "    \n",
    "    so in the below code, we have an option to pass 3 , 2 or 1 arguments and the code with be executed accordingly.\n",
    "    \n",
    "or we can use *args\n",
    "that can take any number of input and implement logic accordingly.\n"
   ]
  },
  {
   "cell_type": "code",
   "execution_count": 103,
   "metadata": {},
   "outputs": [],
   "source": [
    "class Student:\n",
    "    def avg(self,a=None,b=None,c=None):\n",
    "        s=0\n",
    "        if a!=None and b!=None and c!=None: #this means 3 paras have been passed\n",
    "            s = (a+b+c)/3\n",
    "        elif a!=None and b!=None: #this measn 2 parameters are passed\n",
    "            s = (a+b)/2 \n",
    "        else:\n",
    "            s = a\n",
    "        \n",
    "        return s\n",
    "  "
   ]
  },
  {
   "cell_type": "code",
   "execution_count": 104,
   "metadata": {},
   "outputs": [],
   "source": [
    "a = Student()"
   ]
  },
  {
   "cell_type": "code",
   "execution_count": 105,
   "metadata": {},
   "outputs": [
    {
     "data": {
      "text/plain": [
       "5.5"
      ]
     },
     "execution_count": 105,
     "metadata": {},
     "output_type": "execute_result"
    }
   ],
   "source": [
    "a.avg(5,6)"
   ]
  },
  {
   "cell_type": "code",
   "execution_count": 106,
   "metadata": {},
   "outputs": [
    {
     "data": {
      "text/plain": [
       "4.0"
      ]
     },
     "execution_count": 106,
     "metadata": {},
     "output_type": "execute_result"
    }
   ],
   "source": [
    "a.avg(2,4,6)"
   ]
  },
  {
   "cell_type": "code",
   "execution_count": null,
   "metadata": {},
   "outputs": [],
   "source": []
  },
  {
   "cell_type": "code",
   "execution_count": 107,
   "metadata": {},
   "outputs": [],
   "source": [
    "class Student:\n",
    "    def avg(self,*args):\n",
    "        a=sum(args)/len(args)\n",
    "        return a"
   ]
  },
  {
   "cell_type": "code",
   "execution_count": 108,
   "metadata": {},
   "outputs": [],
   "source": [
    "a = Student()"
   ]
  },
  {
   "cell_type": "code",
   "execution_count": 109,
   "metadata": {},
   "outputs": [
    {
     "data": {
      "text/plain": [
       "5.5"
      ]
     },
     "execution_count": 109,
     "metadata": {},
     "output_type": "execute_result"
    }
   ],
   "source": [
    "a.avg(5,6)"
   ]
  },
  {
   "cell_type": "code",
   "execution_count": 110,
   "metadata": {},
   "outputs": [
    {
     "data": {
      "text/plain": [
       "4.0"
      ]
     },
     "execution_count": 110,
     "metadata": {},
     "output_type": "execute_result"
    }
   ],
   "source": [
    "a.avg(2,4,6)"
   ]
  },
  {
   "cell_type": "code",
   "execution_count": null,
   "metadata": {},
   "outputs": [],
   "source": []
  },
  {
   "cell_type": "markdown",
   "metadata": {},
   "source": [
    "## Python is neither call-by-value, nor call-by-reference. It is call-by-object-reference. Almost everything is an object in Python."
   ]
  },
  {
   "cell_type": "code",
   "execution_count": null,
   "metadata": {},
   "outputs": [],
   "source": [
    "IN PYTHON,\n",
    "\n",
    "we have two concepts \n",
    "1. mutable\n",
    "2.immutable\n",
    "\n",
    "in case of immutable objects:\n",
    "so if we have a function to which we are passing a value reference\n",
    "\n",
    "the id will be same for the variable untill it is modified"
   ]
  },
  {
   "cell_type": "code",
   "execution_count": 111,
   "metadata": {},
   "outputs": [],
   "source": [
    "def func(x):\n",
    "    print(id(x))\n",
    "    x=x+1\n",
    "    print(id(x))\n",
    "    return x"
   ]
  },
  {
   "cell_type": "code",
   "execution_count": 113,
   "metadata": {},
   "outputs": [
    {
     "name": "stdout",
     "output_type": "stream",
     "text": [
      "140716474078304\n",
      "140716474078304\n",
      "140716474078336\n"
     ]
    },
    {
     "data": {
      "text/plain": [
       "11"
      ]
     },
     "execution_count": 113,
     "metadata": {},
     "output_type": "execute_result"
    }
   ],
   "source": [
    "a = 10def func(x):\n",
    "    print(id(x))\n",
    "    x=x+1\n",
    "    print(id(x))\n",
    "    return x\n",
    "print(id(a))\n",
    "func(a)"
   ]
  },
  {
   "cell_type": "code",
   "execution_count": null,
   "metadata": {},
   "outputs": [],
   "source": []
  },
  {
   "cell_type": "code",
   "execution_count": null,
   "metadata": {},
   "outputs": [],
   "source": [
    "in case of mutable objects like list,tuple:\n",
    "so if we have a function to which we are passing a value reference\n",
    "\n",
    "the id will be same for the variable even after we change the values in list, and it will also modify the original list"
   ]
  },
  {
   "cell_type": "code",
   "execution_count": null,
   "metadata": {},
   "outputs": [],
   "source": []
  },
  {
   "cell_type": "code",
   "execution_count": 116,
   "metadata": {},
   "outputs": [],
   "source": [
    "def func1(listx):\n",
    "    print(id(listx))\n",
    "    listx[1]=1\n",
    "    print(id(listx))\n",
    "    return listx"
   ]
  },
  {
   "cell_type": "code",
   "execution_count": 118,
   "metadata": {},
   "outputs": [
    {
     "name": "stdout",
     "output_type": "stream",
     "text": [
      "2104054625416\n",
      "2104054625416\n",
      "2104054625416\n"
     ]
    }
   ],
   "source": [
    "lista=[5,9,6]\n",
    "print(id(lista))\n",
    "listb=func1(lista)"
   ]
  },
  {
   "cell_type": "code",
   "execution_count": 119,
   "metadata": {},
   "outputs": [
    {
     "data": {
      "text/plain": [
       "[5, 1, 6]"
      ]
     },
     "execution_count": 119,
     "metadata": {},
     "output_type": "execute_result"
    }
   ],
   "source": [
    "lista"
   ]
  },
  {
   "cell_type": "code",
   "execution_count": 120,
   "metadata": {},
   "outputs": [
    {
     "data": {
      "text/plain": [
       "[5, 1, 6]"
      ]
     },
     "execution_count": 120,
     "metadata": {},
     "output_type": "execute_result"
    }
   ],
   "source": [
    "listb"
   ]
  },
  {
   "cell_type": "code",
   "execution_count": null,
   "metadata": {},
   "outputs": [],
   "source": []
  },
  {
   "cell_type": "code",
   "execution_count": null,
   "metadata": {},
   "outputs": [],
   "source": []
  },
  {
   "cell_type": "code",
   "execution_count": null,
   "metadata": {},
   "outputs": [],
   "source": []
  },
  {
   "cell_type": "code",
   "execution_count": null,
   "metadata": {},
   "outputs": [],
   "source": []
  },
  {
   "cell_type": "code",
   "execution_count": null,
   "metadata": {},
   "outputs": [],
   "source": []
  },
  {
   "cell_type": "markdown",
   "metadata": {},
   "source": []
  },
  {
   "cell_type": "code",
   "execution_count": null,
   "metadata": {},
   "outputs": [],
   "source": []
  },
  {
   "cell_type": "code",
   "execution_count": null,
   "metadata": {},
   "outputs": [],
   "source": []
  },
  {
   "cell_type": "markdown",
   "metadata": {},
   "source": [
    "## Pickling and unpickling \n",
    "        It’s a serialization and deserialization module of python objects.Construct and Deconstruct.\n",
    "Python object (list, class etc) are pickled or serialized in byte streams and saved(dumped) to the machine and later it can be unpickled or deserialised to recreate the object from bytes.\n",
    "\n",
    "\n",
    "Python pickle module is used for serializing and de-serializing a Python object structure. Any object in Python can be pickled so that it can be saved on disk. What pickle does is that it “serializes” the object first before writing it to file. Pickling is a way to convert a python object (list, dict, etc.) into a character stream. The idea is that this character stream contains all the information necessary to reconstruct the object in another python script.\n",
    "\n",
    "\n",
    "pickle.dump    #for filr\n",
    "pickle.dumps   #for stream of characters\n",
    "\n",
    "\n",
    "\n",
    "\n",
    "\n",
    "Advantages of using Pickle Module:\n",
    "\n",
    "Recursive objects (objects containing references to themselves): Pickle keeps track of the objects it has already serialized, so later references to the same object won’t be serialized again. (The marshal module breaks for this.)\n",
    "\n",
    "\n",
    "\n",
    "Object sharing (references to the same object in different places): This is similar to self- referencing objects; pickle stores the object once, and ensures that all other references point to the master copy. Shared objects remain shared, which can be very important for mutable objects.\n",
    "\n",
    "\n",
    "User-defined classes and their instances: Marshal does not support these at all, but pickle can save and restore class instances transparently. The class definition must be importable and live in the same module as when the object was stored."
   ]
  },
  {
   "cell_type": "code",
   "execution_count": null,
   "metadata": {},
   "outputs": [],
   "source": []
  },
  {
   "cell_type": "code",
   "execution_count": 14,
   "metadata": {},
   "outputs": [],
   "source": [
    "#pickle object to bytes\n",
    "import pickle\n",
    "Example_dict = {1:\"6\",2:\"six\"}\n",
    "with open(r\"C:\\Users\\Gaurav Sharma\\Desktop\\dict.pickle\",\"wb\") as f:\n",
    "    pickle.dump(Example_dict,f)\n",
    "    "
   ]
  },
  {
   "cell_type": "code",
   "execution_count": 9,
   "metadata": {},
   "outputs": [
    {
     "name": "stdout",
     "output_type": "stream",
     "text": [
      "<_io.BufferedWriter name='C:\\\\Users\\\\Gaurav Sharma\\\\Desktop\\\\dict.pickle'>\n"
     ]
    }
   ],
   "source": []
  },
  {
   "cell_type": "code",
   "execution_count": 18,
   "metadata": {},
   "outputs": [
    {
     "name": "stdout",
     "output_type": "stream",
     "text": [
      "b''\n"
     ]
    }
   ],
   "source": [
    "#unpickle bytes to object\n",
    "with open(r\"C:\\Users\\Gaurav Sharma\\Desktop\\dict.pickle\",\"rb\") as f:\n",
    "    dict2 = pickle.load(f)\n",
    "    print(f.read())"
   ]
  },
  {
   "cell_type": "code",
   "execution_count": 7,
   "metadata": {},
   "outputs": [
    {
     "name": "stdout",
     "output_type": "stream",
     "text": [
      "{1: '6', 2: 'six'}\n"
     ]
    }
   ],
   "source": [
    "print(dict2)"
   ]
  },
  {
   "cell_type": "code",
   "execution_count": null,
   "metadata": {},
   "outputs": [],
   "source": []
  },
  {
   "cell_type": "code",
   "execution_count": null,
   "metadata": {},
   "outputs": [],
   "source": []
  },
  {
   "cell_type": "code",
   "execution_count": null,
   "metadata": {},
   "outputs": [],
   "source": []
  },
  {
   "cell_type": "code",
   "execution_count": null,
   "metadata": {},
   "outputs": [],
   "source": []
  },
  {
   "cell_type": "code",
   "execution_count": null,
   "metadata": {},
   "outputs": [],
   "source": []
  },
  {
   "cell_type": "markdown",
   "metadata": {},
   "source": [
    "## What does the if __name__ == “__main__”: do?\n",
    "Before executing code, Python interpreter reads source file and define few special variables/global variables.\n",
    "\n",
    "If the python interpreter is running that module (the source file) as the main program, it sets the special __name__ variable to have a value “__main__”. \n",
    "\n",
    "If this file is being imported from another module, __name__ will be set to the module’s name."
   ]
  },
  {
   "cell_type": "code",
   "execution_count": null,
   "metadata": {},
   "outputs": [],
   "source": []
  },
  {
   "cell_type": "markdown",
   "metadata": {},
   "source": [
    "## Importance of Venv"
   ]
  },
  {
   "cell_type": "raw",
   "metadata": {},
   "source": [
    "the main purpose of Python virtual environments is to create an isolated environment for Python projects. This means that each project can have its own dependencies, regardless of what dependencies every other project has."
   ]
  },
  {
   "cell_type": "raw",
   "metadata": {},
   "source": [
    "In another case just imagine that you have an application which is fully developed and you do not want to make any change to the libraries it is using but at the same time you start developing another application which requires the updated versions of those libraries. \n",
    "It creates isolated environments for you python application and allows you to install python libraries in that isolated environment instead of installing them globally"
   ]
  },
  {
   "cell_type": "code",
   "execution_count": null,
   "metadata": {},
   "outputs": [],
   "source": [
    "You can customise the environment as per your needs. "
   ]
  },
  {
   "cell_type": "code",
   "execution_count": 2,
   "metadata": {},
   "outputs": [
    {
     "name": "stdout",
     "output_type": "stream",
     "text": [
      "Note: you may need to restart the kernel to use updated packages.\n"
     ]
    },
    {
     "name": "stderr",
     "output_type": "stream",
     "text": [
      "'C:\\Users\\Gaurav' is not recognized as an internal or external command,\n",
      "operable program or batch file.\n"
     ]
    }
   ],
   "source": [
    "pip install virtualenv"
   ]
  },
  {
   "cell_type": "code",
   "execution_count": null,
   "metadata": {},
   "outputs": [],
   "source": [
    "virtualenv projecenv"
   ]
  },
  {
   "cell_type": "code",
   "execution_count": 1,
   "metadata": {},
   "outputs": [
    {
     "ename": "SyntaxError",
     "evalue": "invalid syntax (<ipython-input-1-abd9e8415790>, line 1)",
     "output_type": "error",
     "traceback": [
      "\u001b[1;36m  File \u001b[1;32m\"<ipython-input-1-abd9e8415790>\"\u001b[1;36m, line \u001b[1;32m1\u001b[0m\n\u001b[1;33m    activate this env # Scripts\\activate\u001b[0m\n\u001b[1;37m                ^\u001b[0m\n\u001b[1;31mSyntaxError\u001b[0m\u001b[1;31m:\u001b[0m invalid syntax\n"
     ]
    }
   ],
   "source": [
    "activate this env # Scripts\\activate"
   ]
  },
  {
   "cell_type": "markdown",
   "metadata": {},
   "source": [
    "## Closure function\n",
    "\n",
    "nested functions\n",
    "\n",
    "As observed from above code, closures help to invoke function outside their scope.\n",
    "\n",
    "The function innerFunction has its scope only inside the outerFunction. But with the use of closures we can easily extend its scope to invoke a function outside its scope.\n",
    "\n",
    "\n",
    "A closure in Python is said to occur when a nested function references a value in its enclosing scope. The whole point here is that it remembers the value."
   ]
  },
  {
   "cell_type": "code",
   "execution_count": null,
   "metadata": {},
   "outputs": [],
   "source": []
  },
  {
   "cell_type": "code",
   "execution_count": null,
   "metadata": {},
   "outputs": [],
   "source": []
  },
  {
   "cell_type": "code",
   "execution_count": 20,
   "metadata": {},
   "outputs": [
    {
     "name": "stdout",
     "output_type": "stream",
     "text": [
      "Hey!\n"
     ]
    }
   ],
   "source": [
    "# Python program to illustrate \n",
    "# closures \n",
    "def outerFunction(text): \n",
    "    text = text \n",
    "  \n",
    "    def innerFunction(): \n",
    "        print(text) \n",
    "  \n",
    "    return innerFunction # Note we are returning function WITHOUT parenthesis \n",
    "  \n",
    "if __name__ == '__main__': \n",
    "    myFunction = outerFunction('Hey!') \n",
    "    myFunction() "
   ]
  },
  {
   "cell_type": "code",
   "execution_count": null,
   "metadata": {},
   "outputs": [],
   "source": []
  },
  {
   "cell_type": "code",
   "execution_count": null,
   "metadata": {},
   "outputs": [],
   "source": []
  },
  {
   "cell_type": "code",
   "execution_count": 19,
   "metadata": {},
   "outputs": [
    {
     "name": "stdout",
     "output_type": "stream",
     "text": [
      "6\n",
      "9\n",
      "5\n",
      "10\n"
     ]
    }
   ],
   "source": [
    "# Python program to illustrate \n",
    "# closures \n",
    "import logging \n",
    "logging.basicConfig(filename='example.log', level=logging.INFO) \n",
    "  \n",
    "  \n",
    "def logger(func): \n",
    "    def log_func(*args): \n",
    "        logging.info( \n",
    "            'Running \"{}\" with arguments {}'.format(func.__name__, args)) \n",
    "        print(func(*args)) \n",
    "    # Necessary for closure to work (returning WITHOUT parenthesis) \n",
    "    return log_func               \n",
    "  \n",
    "def add(x, y): \n",
    "    return x+y \n",
    "  \n",
    "def sub(x, y): \n",
    "    return x-y \n",
    "  \n",
    "add_logger = logger(add) \n",
    "sub_logger = logger(sub) \n",
    "  \n",
    "add_logger(3, 3) \n",
    "add_logger(4, 5) \n",
    "  \n",
    "sub_logger(10, 5) \n",
    "sub_logger(20, 10)"
   ]
  },
  {
   "cell_type": "code",
   "execution_count": null,
   "metadata": {},
   "outputs": [],
   "source": []
  },
  {
   "cell_type": "markdown",
   "metadata": {},
   "source": [
    "## Decorators\n",
    "\n",
    "\n",
    "Decorators are very powerful and useful tool in Python since it allows programmers to modify the behavior of function or class. Decorators allow us to wrap another function in order to extend the behavior of wrapped function, without permanently modifying it.\n",
    "\n",
    "In Decorators, functions are taken as the argument into another function and then called inside the wrapper function."
   ]
  },
  {
   "cell_type": "raw",
   "metadata": {},
   "source": [
    "Function decorator\n",
    "\n",
    "@gfg_decorator\n",
    "def hello_decorator(): \n",
    "    print(\"Gfg\") \n",
    "  \n",
    "'''Above code is equivalent to - \n",
    "  \n",
    "def hello_decorator(): \n",
    "    print(\"Gfg\") \n",
    "      \n",
    "hello_decorator = gfg_decorator(hello_decorator)'''"
   ]
  },
  {
   "cell_type": "raw",
   "metadata": {},
   "source": [
    "Class Decorator\n",
    "\n",
    "class decorator2:\n",
    "    \n",
    "    def __init__(self, f):\n",
    "        self.f = f\n",
    "        \n",
    "    def __call__(self):\n",
    "        print(\"Decorating\", self.f.__name__)\n",
    "        self.f()\n",
    "\n",
    "@decorator2\n",
    "def foo():\n",
    "    print(\"inside foo()\")\n",
    "\n",
    "foo()"
   ]
  },
  {
   "cell_type": "code",
   "execution_count": 24,
   "metadata": {},
   "outputs": [
    {
     "name": "stdout",
     "output_type": "stream",
     "text": [
      "Hello, this is before function execution\n",
      "This is inside the function !!\n",
      "This is after function execution\n"
     ]
    }
   ],
   "source": [
    "# defining a decorator \n",
    "def hello_decorator(func): \n",
    "  \n",
    "    # inner1 is a Wrapper function in  \n",
    "    # which the argument is called \n",
    "      \n",
    "    # inner function can access the outer local \n",
    "    # functions like in this case \"func\" \n",
    "    def inner1(): \n",
    "        print(\"Hello, this is before function execution\") \n",
    "  \n",
    "        # calling the actual function now \n",
    "        # inside the wrapper function. \n",
    "        func() \n",
    "  \n",
    "        print(\"This is after function execution\") \n",
    "          \n",
    "    return inner1 \n",
    "  \n",
    "  \n",
    "# defining a function, to be called inside wrapper \n",
    "def function_to_be_used(): \n",
    "    print(\"This is inside the function !!\") \n",
    "  \n",
    "  \n",
    "# passing 'function_to_be_used' inside the \n",
    "# decorator to control its behavior \n",
    "function_to_be_used = hello_decorator(function_to_be_used) \n",
    "  \n",
    "  \n",
    "# calling the function \n",
    "function_to_be_used() "
   ]
  },
  {
   "cell_type": "code",
   "execution_count": 25,
   "metadata": {},
   "outputs": [
    {
     "name": "stdout",
     "output_type": "stream",
     "text": [
      "Decorating foo\n",
      "inside foo()\n"
     ]
    }
   ],
   "source": [
    "class decorator2:\n",
    "    \n",
    "    def __init__(self, f):\n",
    "        self.f = f\n",
    "        \n",
    "    def __call__(self):\n",
    "        print(\"Decorating\", self.f.__name__)\n",
    "        self.f()\n",
    "\n",
    "@decorator2\n",
    "def foo():\n",
    "    print(\"inside foo()\")\n",
    "\n",
    "foo()"
   ]
  },
  {
   "cell_type": "code",
   "execution_count": null,
   "metadata": {},
   "outputs": [],
   "source": []
  },
  {
   "cell_type": "code",
   "execution_count": null,
   "metadata": {},
   "outputs": [],
   "source": []
  },
  {
   "cell_type": "code",
   "execution_count": null,
   "metadata": {},
   "outputs": [],
   "source": []
  },
  {
   "cell_type": "markdown",
   "metadata": {},
   "source": [
    "## Python also accepts function recursion, which means a defined function can call itself. \n",
    "\n",
    "Recursion is a common mathematical and programming concept. It means that a function calls itself. This has the benefit of meaning that you can loop through data to reach a result.\n",
    "\n",
    "dafault 1000 times"
   ]
  },
  {
   "cell_type": "code",
   "execution_count": null,
   "metadata": {},
   "outputs": [],
   "source": []
  },
  {
   "cell_type": "code",
   "execution_count": 34,
   "metadata": {},
   "outputs": [],
   "source": [
    "def factorial1(n):\n",
    "    if n < 0:\n",
    "        print(\"Please enter positive number\")\n",
    "    elif n == 0 :\n",
    "        return 1\n",
    "    else:\n",
    "        return n*factorial1(n-1)"
   ]
  },
  {
   "cell_type": "code",
   "execution_count": 38,
   "metadata": {},
   "outputs": [
    {
     "data": {
      "text/plain": [
       "2"
      ]
     },
     "execution_count": 38,
     "metadata": {},
     "output_type": "execute_result"
    }
   ],
   "source": [
    "factorial1(2)"
   ]
  },
  {
   "cell_type": "markdown",
   "metadata": {},
   "source": [
    "## Filter"
   ]
  },
  {
   "cell_type": "markdown",
   "metadata": {},
   "source": [
    "## List comprehensions provide a concise way to create lists. "
   ]
  },
  {
   "cell_type": "raw",
   "metadata": {},
   "source": [
    "[ expression for item in list if conditional ]\n",
    "\n",
    "filter(function,sequence)\n",
    "\n",
    "it only returns the data for which the function is true based on certain condition"
   ]
  },
  {
   "cell_type": "code",
   "execution_count": 54,
   "metadata": {},
   "outputs": [],
   "source": [
    "def odd(nums):\n",
    "    odds=[]\n",
    "    for num in set(nums):\n",
    "        if num % 2 != 0:\n",
    "            odds.append(num)\n",
    "    return odds\n",
    "        \n",
    "old_list=[1,2,3,4,8,9,7,10]\n",
    "new_list = [i*i for i in old_list if filter(odd,old_list)]"
   ]
  },
  {
   "cell_type": "code",
   "execution_count": 56,
   "metadata": {},
   "outputs": [
    {
     "name": "stdout",
     "output_type": "stream",
     "text": [
      "[1, 4, 9, 16, 64, 81, 49, 100]\n"
     ]
    }
   ],
   "source": [
    "print(new_list)"
   ]
  },
  {
   "cell_type": "code",
   "execution_count": 57,
   "metadata": {},
   "outputs": [],
   "source": [
    "def odd(nums):\n",
    "    odds=[]\n",
    "    for num in set(nums):\n",
    "        if num % 2 != 0:\n",
    "            odds.append(num)\n",
    "    return odds"
   ]
  },
  {
   "cell_type": "code",
   "execution_count": 58,
   "metadata": {},
   "outputs": [
    {
     "data": {
      "text/plain": [
       "[1, 5, 7, 9]"
      ]
     },
     "execution_count": 58,
     "metadata": {},
     "output_type": "execute_result"
    }
   ],
   "source": [
    "numss=[1,2,5,4,7,8,6,9,5,6]\n",
    "odd(numss)"
   ]
  },
  {
   "cell_type": "code",
   "execution_count": null,
   "metadata": {},
   "outputs": [],
   "source": []
  },
  {
   "cell_type": "markdown",
   "metadata": {},
   "source": [
    "## reduce"
   ]
  },
  {
   "cell_type": "raw",
   "metadata": {},
   "source": [
    "from functools import reduce"
   ]
  },
  {
   "cell_type": "raw",
   "metadata": {},
   "source": [
    "instead of reduce use For loop\n",
    "\n",
    "reduce takes a function and a data collection,\n",
    "the function here should take two arguments.\n",
    "\n",
    "reduce(function,dataset)"
   ]
  },
  {
   "cell_type": "raw",
   "metadata": {},
   "source": [
    "reduce first takes elemnts from the a data and apply the function to it.\n",
    "\n",
    "in the next step, it will take the result of the first calculation and the 3rd element from the data collection and apply the function to it and so on.. and at last returns the computed nested values."
   ]
  },
  {
   "cell_type": "code",
   "execution_count": null,
   "metadata": {},
   "outputs": [],
   "source": []
  },
  {
   "cell_type": "code",
   "execution_count": null,
   "metadata": {},
   "outputs": [],
   "source": []
  },
  {
   "cell_type": "markdown",
   "metadata": {},
   "source": [
    " ## Python standard libraries"
   ]
  },
  {
   "cell_type": "code",
   "execution_count": null,
   "metadata": {},
   "outputs": [],
   "source": [
    "os\n",
    "sys\n",
    "json\n",
    "datetime\n",
    "csv\n",
    "logging\n",
    "calender\n"
   ]
  },
  {
   "cell_type": "code",
   "execution_count": null,
   "metadata": {},
   "outputs": [],
   "source": []
  },
  {
   "cell_type": "code",
   "execution_count": 19,
   "metadata": {},
   "outputs": [],
   "source": [
    "import sys"
   ]
  },
  {
   "cell_type": "code",
   "execution_count": 20,
   "metadata": {},
   "outputs": [
    {
     "name": "stdout",
     "output_type": "stream",
     "text": [
      "['C:\\\\Users\\\\Gaurav Sharma\\\\Python_Practice', 'C:\\\\Users\\\\Gaurav Sharma\\\\Anaconda3\\\\python37.zip', 'C:\\\\Users\\\\Gaurav Sharma\\\\Anaconda3\\\\DLLs', 'C:\\\\Users\\\\Gaurav Sharma\\\\Anaconda3\\\\lib', 'C:\\\\Users\\\\Gaurav Sharma\\\\Anaconda3', '', 'C:\\\\Users\\\\Gaurav Sharma\\\\Anaconda3\\\\lib\\\\site-packages', 'C:\\\\Users\\\\Gaurav Sharma\\\\Anaconda3\\\\lib\\\\site-packages\\\\win32', 'C:\\\\Users\\\\Gaurav Sharma\\\\Anaconda3\\\\lib\\\\site-packages\\\\win32\\\\lib', 'C:\\\\Users\\\\Gaurav Sharma\\\\Anaconda3\\\\lib\\\\site-packages\\\\Pythonwin', 'C:\\\\Users\\\\Gaurav Sharma\\\\Anaconda3\\\\lib\\\\site-packages\\\\IPython\\\\extensions', 'C:\\\\Users\\\\Gaurav Sharma\\\\.ipython']\n"
     ]
    }
   ],
   "source": [
    "print(sys.path)"
   ]
  },
  {
   "cell_type": "code",
   "execution_count": 23,
   "metadata": {},
   "outputs": [],
   "source": [
    "import calendar\n",
    "import datetime\n"
   ]
  },
  {
   "cell_type": "code",
   "execution_count": 27,
   "metadata": {},
   "outputs": [
    {
     "name": "stdout",
     "output_type": "stream",
     "text": [
      "2020-06-03\n"
     ]
    }
   ],
   "source": [
    "print(datetime.date.today())"
   ]
  },
  {
   "cell_type": "code",
   "execution_count": 31,
   "metadata": {},
   "outputs": [
    {
     "name": "stdout",
     "output_type": "stream",
     "text": [
      "False\n"
     ]
    }
   ],
   "source": [
    "print(calendar.isleap(2014))"
   ]
  },
  {
   "cell_type": "code",
   "execution_count": 37,
   "metadata": {},
   "outputs": [
    {
     "name": "stdout",
     "output_type": "stream",
     "text": [
      "      May 2016\n",
      "Mo Tu We Th Fr Sa Su\n",
      "                   1\n",
      " 2  3  4  5  6  7  8\n",
      " 9 10 11 12 13 14 15\n",
      "16 17 18 19 20 21 22\n",
      "23 24 25 26 27 28 29\n",
      "30 31\n",
      "\n"
     ]
    }
   ],
   "source": [
    "print(calendar.month(2016,5))"
   ]
  },
  {
   "cell_type": "code",
   "execution_count": null,
   "metadata": {},
   "outputs": [],
   "source": []
  },
  {
   "cell_type": "code",
   "execution_count": null,
   "metadata": {},
   "outputs": [],
   "source": []
  },
  {
   "cell_type": "code",
   "execution_count": null,
   "metadata": {},
   "outputs": [],
   "source": []
  },
  {
   "cell_type": "code",
   "execution_count": null,
   "metadata": {},
   "outputs": [],
   "source": []
  },
  {
   "cell_type": "code",
   "execution_count": null,
   "metadata": {},
   "outputs": [],
   "source": []
  },
  {
   "cell_type": "code",
   "execution_count": null,
   "metadata": {},
   "outputs": [],
   "source": []
  },
  {
   "cell_type": "code",
   "execution_count": null,
   "metadata": {},
   "outputs": [],
   "source": []
  },
  {
   "cell_type": "code",
   "execution_count": null,
   "metadata": {},
   "outputs": [],
   "source": []
  },
  {
   "cell_type": "code",
   "execution_count": null,
   "metadata": {},
   "outputs": [],
   "source": []
  },
  {
   "cell_type": "code",
   "execution_count": null,
   "metadata": {},
   "outputs": [],
   "source": []
  },
  {
   "cell_type": "code",
   "execution_count": null,
   "metadata": {},
   "outputs": [],
   "source": []
  },
  {
   "cell_type": "code",
   "execution_count": null,
   "metadata": {},
   "outputs": [],
   "source": []
  },
  {
   "cell_type": "markdown",
   "metadata": {},
   "source": [
    "## Dictinary comprehension\n",
    "\n",
    "Dictionary comprehension is an elegant and concise way to create dictionaries.\n",
    "\n"
   ]
  },
  {
   "cell_type": "code",
   "execution_count": null,
   "metadata": {},
   "outputs": [],
   "source": []
  },
  {
   "cell_type": "code",
   "execution_count": null,
   "metadata": {},
   "outputs": [],
   "source": [
    "Dictionary comprehension is an elegant and concise way to create dictionaries.\n",
    "\n"
   ]
  },
  {
   "cell_type": "code",
   "execution_count": 66,
   "metadata": {},
   "outputs": [
    {
     "name": "stdout",
     "output_type": "stream",
     "text": [
      "{1: 1, 2: 4, 3: 9, 4: 16, 5: 25, 6: 36, 7: 49, 8: 64, 9: 81, 10: 100}\n"
     ]
    }
   ],
   "source": [
    "square_dict = {}\n",
    "for num in range(1, 11):\n",
    "    square_dict[num] = num*num\n",
    "print(square_dict)"
   ]
  },
  {
   "cell_type": "code",
   "execution_count": 67,
   "metadata": {},
   "outputs": [],
   "source": [
    "sqaure_dict = {num : num**2 for num in range(1,11) if num > 4}"
   ]
  },
  {
   "cell_type": "code",
   "execution_count": 68,
   "metadata": {
    "scrolled": true
   },
   "outputs": [
    {
     "name": "stdout",
     "output_type": "stream",
     "text": [
      "{5: 25, 6: 36, 7: 49, 8: 64, 9: 81, 10: 100}\n"
     ]
    }
   ],
   "source": [
    "print(sqaure_dict)"
   ]
  },
  {
   "cell_type": "code",
   "execution_count": null,
   "metadata": {},
   "outputs": [],
   "source": []
  },
  {
   "cell_type": "code",
   "execution_count": 2,
   "metadata": {},
   "outputs": [
    {
     "data": {
      "text/plain": [
       "1"
      ]
     },
     "execution_count": 2,
     "metadata": {},
     "output_type": "execute_result"
    }
   ],
   "source": [
    "\n"
   ]
  },
  {
   "cell_type": "markdown",
   "metadata": {},
   "source": [
    "## Set Comprehensions"
   ]
  },
  {
   "cell_type": "code",
   "execution_count": 1,
   "metadata": {
    "scrolled": true
   },
   "outputs": [
    {
     "data": {
      "text/plain": [
       "{1, 3}"
      ]
     },
     "execution_count": 1,
     "metadata": {},
     "output_type": "execute_result"
    }
   ],
   "source": [
    "{s for s in [1, 2, 3] if s % 2}\n"
   ]
  },
  {
   "cell_type": "code",
   "execution_count": null,
   "metadata": {},
   "outputs": [],
   "source": [
    "{num*num for num in nums if num>2}"
   ]
  },
  {
   "cell_type": "code",
   "execution_count": null,
   "metadata": {},
   "outputs": [],
   "source": []
  },
  {
   "cell_type": "code",
   "execution_count": null,
   "metadata": {},
   "outputs": [],
   "source": []
  },
  {
   "cell_type": "markdown",
   "metadata": {},
   "source": [
    "## set and Frozenset"
   ]
  },
  {
   "cell_type": "code",
   "execution_count": 129,
   "metadata": {},
   "outputs": [],
   "source": [
    "l = [1,9,8,5,2,4,4,5,2,6,9,8]"
   ]
  },
  {
   "cell_type": "code",
   "execution_count": 132,
   "metadata": {},
   "outputs": [],
   "source": [
    "s1=set(l)"
   ]
  },
  {
   "cell_type": "raw",
   "metadata": {},
   "source": [
    "set is unordered collection of data and doesnt support indexin \n",
    "set removes the duplicate.\n",
    "\n",
    "sets are mutable that means we can add or remove data from a set\n",
    "\n",
    "You cannot access items in a set by referring to an index, since sets are unordered the items has no index.\n",
    "\n",
    "But you can loop through the set items using a for loop, or ask if a specified value is present in a set, by using the in keyword."
   ]
  },
  {
   "cell_type": "code",
   "execution_count": 135,
   "metadata": {},
   "outputs": [],
   "source": [
    "s1.add(5)"
   ]
  },
  {
   "cell_type": "code",
   "execution_count": 136,
   "metadata": {},
   "outputs": [
    {
     "data": {
      "text/plain": [
       "{1, 2, 4, 5, 6, 8, 9}"
      ]
     },
     "execution_count": 136,
     "metadata": {},
     "output_type": "execute_result"
    }
   ],
   "source": [
    "s1"
   ]
  },
  {
   "cell_type": "code",
   "execution_count": null,
   "metadata": {},
   "outputs": [],
   "source": []
  },
  {
   "cell_type": "raw",
   "metadata": {},
   "source": [
    "Frozensets are immutable that means the data can not be changed.\n",
    "\n",
    "frozenset is immutable, there are no methods available to alter its elements. So add(), remove(), update(), pop() etc. functions are not defined for frozenset."
   ]
  },
  {
   "cell_type": "code",
   "execution_count": 145,
   "metadata": {},
   "outputs": [],
   "source": [
    "l = [9,6,4,8,5,6,5,1,12,13]"
   ]
  },
  {
   "cell_type": "code",
   "execution_count": 146,
   "metadata": {},
   "outputs": [],
   "source": [
    "s = frozenset(l)"
   ]
  },
  {
   "cell_type": "code",
   "execution_count": 147,
   "metadata": {},
   "outputs": [
    {
     "data": {
      "text/plain": [
       "frozenset({1, 4, 5, 6, 8, 9, 12, 13})"
      ]
     },
     "execution_count": 147,
     "metadata": {},
     "output_type": "execute_result"
    }
   ],
   "source": [
    "s"
   ]
  },
  {
   "cell_type": "code",
   "execution_count": null,
   "metadata": {},
   "outputs": [],
   "source": [
    "s.add(5) #this will give error"
   ]
  },
  {
   "cell_type": "raw",
   "metadata": {},
   "source": []
  },
  {
   "cell_type": "code",
   "execution_count": null,
   "metadata": {},
   "outputs": [],
   "source": []
  },
  {
   "cell_type": "code",
   "execution_count": null,
   "metadata": {},
   "outputs": [],
   "source": []
  },
  {
   "cell_type": "code",
   "execution_count": 148,
   "metadata": {},
   "outputs": [
    {
     "data": {
      "text/plain": [
       "{1, 2, 4, 5, 6, 8, 9, 12, 13}"
      ]
     },
     "execution_count": 148,
     "metadata": {},
     "output_type": "execute_result"
    }
   ],
   "source": [
    "s1|s    #set union (or operation)"
   ]
  },
  {
   "cell_type": "code",
   "execution_count": null,
   "metadata": {},
   "outputs": [],
   "source": []
  },
  {
   "cell_type": "code",
   "execution_count": 150,
   "metadata": {},
   "outputs": [
    {
     "data": {
      "text/plain": [
       "{1, 4, 5, 6, 8, 9}"
      ]
     },
     "execution_count": 150,
     "metadata": {},
     "output_type": "execute_result"
    }
   ],
   "source": [
    "s1&s   #set intersaction (and operation)"
   ]
  },
  {
   "cell_type": "code",
   "execution_count": null,
   "metadata": {},
   "outputs": [],
   "source": []
  },
  {
   "cell_type": "code",
   "execution_count": null,
   "metadata": {},
   "outputs": [],
   "source": []
  },
  {
   "cell_type": "code",
   "execution_count": null,
   "metadata": {},
   "outputs": [],
   "source": []
  },
  {
   "cell_type": "code",
   "execution_count": null,
   "metadata": {},
   "outputs": [],
   "source": []
  },
  {
   "cell_type": "code",
   "execution_count": null,
   "metadata": {},
   "outputs": [],
   "source": []
  },
  {
   "cell_type": "code",
   "execution_count": null,
   "metadata": {},
   "outputs": [],
   "source": []
  },
  {
   "cell_type": "markdown",
   "metadata": {},
   "source": [
    "## Lambda Function"
   ]
  },
  {
   "cell_type": "markdown",
   "metadata": {},
   "source": [
    "A lambda function is a small anonymous function.\n",
    "\n",
    "A lambda function can take any number of arguments, but can only have one expression.\n",
    "\n",
    "lambda arguments : expression"
   ]
  },
  {
   "cell_type": "code",
   "execution_count": 61,
   "metadata": {},
   "outputs": [
    {
     "name": "stdout",
     "output_type": "stream",
     "text": [
      "30\n"
     ]
    }
   ],
   "source": [
    "x = lambda a, b : a * b\n",
    "print(x(5, 6))"
   ]
  },
  {
   "cell_type": "code",
   "execution_count": null,
   "metadata": {},
   "outputs": [],
   "source": []
  },
  {
   "cell_type": "code",
   "execution_count": 60,
   "metadata": {},
   "outputs": [
    {
     "name": "stdout",
     "output_type": "stream",
     "text": [
      "33\n"
     ]
    }
   ],
   "source": [
    "def myfunc(n):\n",
    "  return lambda a : a * n\n",
    "\n",
    "mytripler = myfunc(3)\n",
    "\n",
    "print(mytripler(11))"
   ]
  },
  {
   "cell_type": "code",
   "execution_count": null,
   "metadata": {},
   "outputs": [],
   "source": []
  },
  {
   "cell_type": "code",
   "execution_count": 65,
   "metadata": {},
   "outputs": [
    {
     "name": "stdout",
     "output_type": "stream",
     "text": [
      "{1: 1, 2: 4, 3: 9, 4: 16, 5: 25, 6: 36, 7: 49, 8: 64, 9: 81, 10: 100}\n"
     ]
    }
   ],
   "source": []
  },
  {
   "cell_type": "code",
   "execution_count": null,
   "metadata": {},
   "outputs": [],
   "source": []
  },
  {
   "cell_type": "code",
   "execution_count": null,
   "metadata": {},
   "outputs": [],
   "source": []
  },
  {
   "cell_type": "code",
   "execution_count": null,
   "metadata": {},
   "outputs": [],
   "source": []
  },
  {
   "cell_type": "markdown",
   "metadata": {},
   "source": [
    "## Foreign key constraints\n",
    "The following SQL creates a FOREIGN KEY on the \"PersonID\" column when the \"Orders\" table is created:\n",
    "\n",
    "A FOREIGN KEY constraint does not have to be linked only to a PRIMARY KEY constraint in another table; it can also be defined to reference the columns of a UNIQUE constraint in another table.\n",
    "\n",
    "The main purpose of FOREIGN KEY is, only those values will appear which are present in the primary key table."
   ]
  },
  {
   "cell_type": "raw",
   "metadata": {},
   "source": [
    "Create table order(\n",
    "    orderID int NOT NULL PRIMARY KEY,\n",
    "    orderNum int NOT NULL UNIQUE,\n",
    "    personID int FOREIGN KEY REFERENCE Persons(PersonID)\n",
    "\n",
    ")"
   ]
  },
  {
   "cell_type": "code",
   "execution_count": null,
   "metadata": {},
   "outputs": [],
   "source": []
  },
  {
   "cell_type": "code",
   "execution_count": null,
   "metadata": {},
   "outputs": [],
   "source": []
  },
  {
   "cell_type": "markdown",
   "metadata": {},
   "source": [
    "## Difference Between Groupby and having"
   ]
  },
  {
   "cell_type": "raw",
   "metadata": {},
   "source": [
    "1. you can use the WHERE clause with UPDATE and DELETE clause but the HAVING clause can only be used with SELECT query.\n",
    "2. WHERE is used in any SELECT query, while HAVING clause is only used in SELECT queries, which contains aggregate function or group by clause"
   ]
  },
  {
   "cell_type": "code",
   "execution_count": null,
   "metadata": {},
   "outputs": [],
   "source": []
  },
  {
   "cell_type": "code",
   "execution_count": null,
   "metadata": {},
   "outputs": [],
   "source": []
  },
  {
   "cell_type": "markdown",
   "metadata": {},
   "source": [
    "## Fist Class Function\n",
    "\n",
    "Python function is an example of First Class function"
   ]
  },
  {
   "cell_type": "raw",
   "metadata": {},
   "source": [
    "\n",
    "A programming language is set to have first class function if it treats its function as first-class citizens.\n",
    "\n",
    "first-class citizens/objects in a programming language is an entity that support all the operations that are generally\n",
    "available to other entities. operations as follows  \n",
    "\n",
    "\n",
    "1 . assign a function to a varible\n",
    "\n",
    "    def square(num):\n",
    "        return num * num    \n",
    "    f = square # without paranthese\n",
    "    \n",
    "2.  pass function as an argument\n",
    "\n",
    "        def square(num):\n",
    "            return num * num \n",
    "            \n",
    "        def cube(num):\n",
    "             return num ** 3\n",
    "             \n",
    "        def my_map(func, arg_list):\n",
    "            result = []\n",
    "            for arg in arg_list:\n",
    "               result.append(func(arg))\n",
    "            return result\n",
    "        \n",
    "3.  returned from a function like decorator"
   ]
  },
  {
   "cell_type": "code",
   "execution_count": null,
   "metadata": {},
   "outputs": [],
   "source": []
  },
  {
   "cell_type": "code",
   "execution_count": 76,
   "metadata": {},
   "outputs": [],
   "source": [
    "#assign function to a variable\n",
    "\n",
    "def square(num):\n",
    "        return num * num    \n",
    "f = square # without paranthese"
   ]
  },
  {
   "cell_type": "code",
   "execution_count": 77,
   "metadata": {},
   "outputs": [
    {
     "data": {
      "text/plain": [
       "25"
      ]
     },
     "execution_count": 77,
     "metadata": {},
     "output_type": "execute_result"
    }
   ],
   "source": [
    "f(5)"
   ]
  },
  {
   "cell_type": "markdown",
   "metadata": {},
   "source": [
    "## Map\n",
    "\n",
    "map() function returns a map object(which is an iterator) of the results after applying the given function to each item of a given iterable (list, tuple etc.).\n",
    "\n",
    "map(int,list)\n",
    "\n",
    "so if you have an iterable data and you want apply a function to each element of the data, we can use map(func,iterabledatacollection)"
   ]
  },
  {
   "cell_type": "code",
   "execution_count": 75,
   "metadata": {},
   "outputs": [],
   "source": [
    "#pass function as an argument\n",
    "\n",
    "def square(num):\n",
    "    return num * num \n",
    "\n",
    "def cube(num):\n",
    "    return num ** 3\n",
    "\n",
    "def my_map(func, arg_list):\n",
    "    result = []\n",
    "    for arg in arg_list:\n",
    "        result.append(func(arg))\n",
    "    return result"
   ]
  },
  {
   "cell_type": "code",
   "execution_count": 74,
   "metadata": {},
   "outputs": [
    {
     "data": {
      "text/plain": [
       "[1, 8, 64, 343, 512, 729]"
      ]
     },
     "execution_count": 74,
     "metadata": {},
     "output_type": "execute_result"
    }
   ],
   "source": [
    "nums = [1,2,4,7,8,9]\n",
    "my_map(cube,nums)"
   ]
  },
  {
   "cell_type": "code",
   "execution_count": 70,
   "metadata": {},
   "outputs": [
    {
     "name": "stdout",
     "output_type": "stream",
     "text": [
      "<h1>Test Headline!</h1>\n",
      "<h1>Another Headline!</h1>\n",
      "<p>Test Paragraph!</p>\n"
     ]
    }
   ],
   "source": [
    "#return from a function \n",
    "\n",
    "def html_tag(tag):\n",
    "\n",
    "    def wrap_text(msg):\n",
    "        print('<{0}>{1}</{0}>'.format(tag, msg))\n",
    "\n",
    "    return wrap_text\n",
    "\n",
    "print_h1 = html_tag('h1')\n",
    "print_h1('Test Headline!')\n",
    "print_h1('Another Headline!')\n",
    "\n",
    "print_p = html_tag('p')\n",
    "print_p('Test Paragraph!')"
   ]
  },
  {
   "cell_type": "code",
   "execution_count": null,
   "metadata": {},
   "outputs": [],
   "source": []
  },
  {
   "cell_type": "code",
   "execution_count": 38,
   "metadata": {},
   "outputs": [
    {
     "data": {
      "text/plain": [
       "[6, 7]"
      ]
     },
     "execution_count": 38,
     "metadata": {},
     "output_type": "execute_result"
    }
   ],
   "source": [
    "list(filter(lambda x:x>5,range(8)))  #fitler only returns the values for which the condition is true"
   ]
  },
  {
   "cell_type": "code",
   "execution_count": 41,
   "metadata": {},
   "outputs": [
    {
     "data": {
      "text/plain": [
       "[False, False, False, False, False, False, True, True]"
      ]
     },
     "execution_count": 41,
     "metadata": {},
     "output_type": "execute_result"
    }
   ],
   "source": [
    "list(map(lambda x:x>5,range(8)))"
   ]
  },
  {
   "cell_type": "code",
   "execution_count": 42,
   "metadata": {},
   "outputs": [
    {
     "data": {
      "text/plain": [
       "[0, 1, 4, 9, 16, 25, 36, 49]"
      ]
     },
     "execution_count": 42,
     "metadata": {},
     "output_type": "execute_result"
    }
   ],
   "source": [
    "list(map(lambda x:x*x,range(8)))"
   ]
  },
  {
   "cell_type": "code",
   "execution_count": null,
   "metadata": {},
   "outputs": [],
   "source": []
  },
  {
   "cell_type": "code",
   "execution_count": null,
   "metadata": {},
   "outputs": [],
   "source": []
  },
  {
   "cell_type": "code",
   "execution_count": null,
   "metadata": {},
   "outputs": [],
   "source": []
  },
  {
   "cell_type": "markdown",
   "metadata": {},
   "source": [
    "## Iterators"
   ]
  },
  {
   "cell_type": "code",
   "execution_count": null,
   "metadata": {},
   "outputs": [],
   "source": [
    "Iterator objects can be interated upon given limit.\n",
    "The iterator protocol for Python declares that we must make use of two functions to build an iterator- iter() and next().\n",
    "__iter__() : this method returns an iterator object\n",
    "__next__() : this method retuens the next element in the sequence of the object\n",
    "    \n",
    "\n",
    "data = [1,2,3,4]\n",
    "\n",
    "iter_object = iter(data)\n",
    "\n",
    "next(iter_object)\n",
    "\n"
   ]
  },
  {
   "cell_type": "code",
   "execution_count": 9,
   "metadata": {},
   "outputs": [
    {
     "name": "stdout",
     "output_type": "stream",
     "text": [
      "1234\n"
     ]
    }
   ],
   "source": [
    "data = [1,2,3,4]\n",
    "\n",
    "iter_object = iter(data)\n",
    "\n",
    "print(f\"{next(iter_object)}{next(iter_object)}{next(iter_object)}{next(iter_object)}\")\n"
   ]
  },
  {
   "cell_type": "code",
   "execution_count": null,
   "metadata": {},
   "outputs": [],
   "source": []
  },
  {
   "cell_type": "markdown",
   "metadata": {},
   "source": [
    "## Generator"
   ]
  },
  {
   "cell_type": "raw",
   "metadata": {},
   "source": [
    "Generator are a way to implement the iterators.\n",
    "\n",
    "If a function is using Yeild keyword then that function is a genetor.\n",
    "like range() is a generator.\n",
    "\n",
    "here, the values are generated at once but release only when called for.\n",
    "\n",
    "Yield basically is used to return a value from the function to the caller, when it offers a value it pauses the execution at that point and then waits for the caller to receive the value and then it resumes the operation.\n",
    "\n",
    "So Instead of having to compute an entire series of values upfront, the generator computes one value and waits until the next value is called for.\n",
    "\n",
    "at the end of the values the an STOPITERATION exception is automatically raised."
   ]
  },
  {
   "cell_type": "code",
   "execution_count": 2,
   "metadata": {},
   "outputs": [],
   "source": [
    "def fibGenerate(n):\n",
    "    a, b = 0, 1\n",
    "    for i in range(n):\n",
    "        yield a\n",
    "        a, b = b, a + b"
   ]
  },
  {
   "cell_type": "code",
   "execution_count": 3,
   "metadata": {},
   "outputs": [],
   "source": [
    "def fibReturn(n):\n",
    "    a, b = 0, 1\n",
    "    series=[]\n",
    "    for i in range(n):\n",
    "        series.append(a)\n",
    "        a, b = b, a + b\n",
    "    return series"
   ]
  },
  {
   "cell_type": "code",
   "execution_count": null,
   "metadata": {},
   "outputs": [],
   "source": []
  },
  {
   "cell_type": "code",
   "execution_count": null,
   "metadata": {},
   "outputs": [],
   "source": []
  },
  {
   "cell_type": "markdown",
   "metadata": {},
   "source": [
    "## Range"
   ]
  },
  {
   "cell_type": "raw",
   "metadata": {},
   "source": [
    "range(start, stop[, step])\n"
   ]
  },
  {
   "cell_type": "code",
   "execution_count": 7,
   "metadata": {},
   "outputs": [
    {
     "name": "stdout",
     "output_type": "stream",
     "text": [
      "Printing All even numbers between 2 and 10 using range()\n",
      "2, 4, 6, 8, "
     ]
    }
   ],
   "source": [
    "print(\"Printing All even numbers between 2 and 10 using range()\")\n",
    "for i in range(2, 10, 2):\n",
    "    print(i, end=', ')"
   ]
  },
  {
   "cell_type": "code",
   "execution_count": null,
   "metadata": {},
   "outputs": [],
   "source": []
  },
  {
   "cell_type": "markdown",
   "metadata": {},
   "source": [
    "Print()\n",
    "\n",
    "By default, the value of this parameter is '\\n', i.e. the new line character."
   ]
  },
  {
   "cell_type": "code",
   "execution_count": null,
   "metadata": {},
   "outputs": [],
   "source": []
  },
  {
   "cell_type": "markdown",
   "metadata": {},
   "source": [
    "## Basic Data Structures in python:\n",
    "    \n",
    "There are four built-in data structures in Python - list, tuple, dictionary and set."
   ]
  },
  {
   "cell_type": "code",
   "execution_count": null,
   "metadata": {},
   "outputs": [],
   "source": []
  },
  {
   "cell_type": "code",
   "execution_count": null,
   "metadata": {},
   "outputs": [],
   "source": []
  },
  {
   "cell_type": "markdown",
   "metadata": {},
   "source": [
    "## Modules in Python:"
   ]
  },
  {
   "cell_type": "raw",
   "metadata": {},
   "source": [
    "A module allows you to logically organize your Python code. Grouping related code into a module makes the code easier to understand and use. A module is a Python object with arbitrarily named attributes that you can bind and reference.\n",
    "\n",
    "Simply, a module is a file consisting of Python code. A module can define functions, classes and variables. A module can also include runnable code.\n",
    "\n",
    "modules can be imported to other python codes too.\n",
    "\n",
    "from module import method "
   ]
  },
  {
   "cell_type": "code",
   "execution_count": null,
   "metadata": {},
   "outputs": [],
   "source": []
  },
  {
   "cell_type": "markdown",
   "metadata": {},
   "source": [
    "## PYTHONPATH"
   ]
  },
  {
   "cell_type": "raw",
   "metadata": {},
   "source": [
    "so if u want to access the command prompt or shell for python.\n",
    "after installing python we need to set the python for python to be recognised.\n",
    "\n",
    "\n",
    "The Path variable lists the directories that will be searched for executables when you type a command in the command prompt. By adding the path to the Python executable, you will be able to access python.exe by typing the python keyword \n",
    "\n",
    "(you won’t need to specify the full path to the program).\n",
    "set path = \"\" # path of python\n",
    "\n",
    "PYTHONPATH is the variable that tells the interpreter where to locate the module files imported into a program.\n",
    "Hence, it must include the Python source library directory and the directories containing Python source code."
   ]
  },
  {
   "cell_type": "code",
   "execution_count": null,
   "metadata": {},
   "outputs": [],
   "source": [
    "c drive > users > appdata > local > programs > python > python37\n",
    "c drive > users > appdata > local > programs > python > python37 > scripts\n",
    "\n",
    "take these 2 paths and add to the environment variable in mycomputer> properties>advance stting> add path\n",
    "\n"
   ]
  },
  {
   "cell_type": "code",
   "execution_count": null,
   "metadata": {},
   "outputs": [],
   "source": []
  },
  {
   "cell_type": "code",
   "execution_count": null,
   "metadata": {},
   "outputs": [],
   "source": []
  },
  {
   "cell_type": "markdown",
   "metadata": {},
   "source": [
    "## Classes"
   ]
  },
  {
   "cell_type": "raw",
   "metadata": {},
   "source": [
    "Python is an object oriented programming language.\n",
    "Almost everything in Python is an object, with its properties and methods.\n",
    "A Class is like an object constructor, or a \"blueprint\" for creating objects.\n",
    "\n",
    "class allows us to logically group our data and functions that means attributes and methods and allow us to use them as needed.\n",
    "\n",
    "class serves as a blueprint/design of the object.\n",
    "all the objects are instances of a class.\n"
   ]
  },
  {
   "cell_type": "code",
   "execution_count": 13,
   "metadata": {},
   "outputs": [],
   "source": [
    "class Computer:\n",
    "    def config(self):\n",
    "        print(\"something\")\n"
   ]
  },
  {
   "cell_type": "raw",
   "metadata": {},
   "source": [
    "comp1 = Computer()  #comp1 is an instanc/object of class Computer"
   ]
  },
  {
   "cell_type": "raw",
   "metadata": {},
   "source": [
    "a = 5 # here a is an instance of class int"
   ]
  },
  {
   "cell_type": "markdown",
   "metadata": {},
   "source": [
    "a ='gau' # here a is an insatnace of class string"
   ]
  },
  {
   "cell_type": "markdown",
   "metadata": {},
   "source": [
    "Variables are objects of the class of which they they hold data"
   ]
  },
  {
   "cell_type": "code",
   "execution_count": null,
   "metadata": {},
   "outputs": [],
   "source": []
  },
  {
   "cell_type": "markdown",
   "metadata": {},
   "source": [
    "we can call a method by 2 ways:\n",
    "    \n",
    "    1. create an object of the class where the method is defined\n",
    "        com1 = Computer() #com1 is the instance of the class Computer\n",
    "        com1.config()\n",
    "    2. use the class name to access the method \n",
    "        #classname.methodname\n",
    "        Computer.config(com1)"
   ]
  },
  {
   "cell_type": "code",
   "execution_count": null,
   "metadata": {},
   "outputs": [],
   "source": []
  },
  {
   "cell_type": "code",
   "execution_count": null,
   "metadata": {},
   "outputs": [],
   "source": []
  },
  {
   "cell_type": "markdown",
   "metadata": {},
   "source": [
    "## Differentiate between deep and shallow copy."
   ]
  },
  {
   "cell_type": "raw",
   "metadata": {},
   "source": [
    "A deep copy copies an object into another. This means that if you make a change to a copy of an object, it won’t affect the original object. In Python, we use the function deepcopy() for this, and we import the module copy. "
   ]
  },
  {
   "cell_type": "code",
   "execution_count": 45,
   "metadata": {},
   "outputs": [],
   "source": [
    "import copy"
   ]
  },
  {
   "cell_type": "code",
   "execution_count": 70,
   "metadata": {},
   "outputs": [],
   "source": [
    "list1=['a','b','c']"
   ]
  },
  {
   "cell_type": "code",
   "execution_count": 71,
   "metadata": {},
   "outputs": [],
   "source": [
    "list2=copy.deepcopy(list1)"
   ]
  },
  {
   "cell_type": "code",
   "execution_count": 72,
   "metadata": {},
   "outputs": [
    {
     "data": {
      "text/plain": [
       "['a', 'b', 'c']"
      ]
     },
     "execution_count": 72,
     "metadata": {},
     "output_type": "execute_result"
    }
   ],
   "source": [
    "list2"
   ]
  },
  {
   "cell_type": "code",
   "execution_count": 73,
   "metadata": {},
   "outputs": [],
   "source": [
    "list2.append('d')"
   ]
  },
  {
   "cell_type": "code",
   "execution_count": 74,
   "metadata": {},
   "outputs": [
    {
     "data": {
      "text/plain": [
       "['a', 'b', 'c']"
      ]
     },
     "execution_count": 74,
     "metadata": {},
     "output_type": "execute_result"
    }
   ],
   "source": [
    "list1"
   ]
  },
  {
   "cell_type": "code",
   "execution_count": 75,
   "metadata": {},
   "outputs": [
    {
     "data": {
      "text/plain": [
       "['a', 'b', 'c', 'd']"
      ]
     },
     "execution_count": 75,
     "metadata": {},
     "output_type": "execute_result"
    }
   ],
   "source": [
    "list2"
   ]
  },
  {
   "cell_type": "code",
   "execution_count": null,
   "metadata": {},
   "outputs": [],
   "source": []
  },
  {
   "cell_type": "raw",
   "metadata": {},
   "source": [
    "A shallow copy, however, copies one object’s reference to another. So, if we make a change in the copy, it will affect the original object. For this, we have the function copy(). "
   ]
  },
  {
   "cell_type": "code",
   "execution_count": 64,
   "metadata": {},
   "outputs": [],
   "source": [
    "list2=copy.copy(list1)"
   ]
  },
  {
   "cell_type": "code",
   "execution_count": 65,
   "metadata": {},
   "outputs": [
    {
     "data": {
      "text/plain": [
       "['a', 'b', 'c']"
      ]
     },
     "execution_count": 65,
     "metadata": {},
     "output_type": "execute_result"
    }
   ],
   "source": [
    "list1"
   ]
  },
  {
   "cell_type": "code",
   "execution_count": 66,
   "metadata": {},
   "outputs": [
    {
     "data": {
      "text/plain": [
       "['a', 'b', 'c']"
      ]
     },
     "execution_count": 66,
     "metadata": {},
     "output_type": "execute_result"
    }
   ],
   "source": [
    "list2"
   ]
  },
  {
   "cell_type": "code",
   "execution_count": 67,
   "metadata": {},
   "outputs": [],
   "source": [
    "list2.append('5')"
   ]
  },
  {
   "cell_type": "code",
   "execution_count": 68,
   "metadata": {},
   "outputs": [
    {
     "data": {
      "text/plain": [
       "['a', 'b', 'c']"
      ]
     },
     "execution_count": 68,
     "metadata": {},
     "output_type": "execute_result"
    }
   ],
   "source": [
    "list1"
   ]
  },
  {
   "cell_type": "code",
   "execution_count": 69,
   "metadata": {},
   "outputs": [
    {
     "data": {
      "text/plain": [
       "['a', 'b', 'c', '5']"
      ]
     },
     "execution_count": 69,
     "metadata": {},
     "output_type": "execute_result"
    }
   ],
   "source": [
    "list2"
   ]
  },
  {
   "cell_type": "code",
   "execution_count": null,
   "metadata": {},
   "outputs": [],
   "source": []
  },
  {
   "cell_type": "code",
   "execution_count": null,
   "metadata": {},
   "outputs": [],
   "source": []
  },
  {
   "cell_type": "code",
   "execution_count": null,
   "metadata": {},
   "outputs": [],
   "source": []
  },
  {
   "cell_type": "markdown",
   "metadata": {},
   "source": [
    "## __**args * **kwargs__"
   ]
  },
  {
   "cell_type": "raw",
   "metadata": {},
   "source": [
    " *args and **kwargs?\n",
    "\n",
    "def add(a,b): \n",
    "    return sum(a,b) * 0.5\n",
    "    \n",
    "    a and b are positional arguments\n",
    "\n",
    "In cases when we don’t know how many arguments will be passed to a function, like when we want to pass a list or a tuple of values, we use *args.\n",
    "\n",
    "*args are a tuple of arguments, alway use single star and then args\n",
    "\n",
    "def add(*args):\n",
    "    return sum(*args) * 0.5\n",
    "    \n",
    "    \n",
    "def myfunc(*args):\n",
    "    for item in args:\n",
    "        print(item)"
   ]
  },
  {
   "cell_type": "code",
   "execution_count": 79,
   "metadata": {},
   "outputs": [],
   "source": [
    "def func(*args):\n",
    "    for i in args:\n",
    "        print(i)\n"
   ]
  },
  {
   "cell_type": "code",
   "execution_count": 80,
   "metadata": {},
   "outputs": [
    {
     "name": "stdout",
     "output_type": "stream",
     "text": [
      "3\n",
      "2\n",
      "1\n",
      "4\n",
      "7\n"
     ]
    }
   ],
   "source": [
    "func(3,2,1,4,7)"
   ]
  },
  {
   "cell_type": "markdown",
   "metadata": {},
   "source": [
    "__**kwargs__ takes keyword arguments when we don’t know how many there will be.\n",
    "\n",
    "**kwargs returns a dictionary.\n"
   ]
  },
  {
   "cell_type": "code",
   "execution_count": 77,
   "metadata": {},
   "outputs": [],
   "source": [
    "def func(**kwargs):\n",
    "    for i in kwargs:\n",
    "        print(i,kwargs[i])\n"
   ]
  },
  {
   "cell_type": "code",
   "execution_count": 78,
   "metadata": {},
   "outputs": [
    {
     "name": "stdout",
     "output_type": "stream",
     "text": [
      "a 1\n",
      "b 2\n",
      "c 7\n"
     ]
    }
   ],
   "source": [
    "func(a=1,b=2,c=7)"
   ]
  },
  {
   "cell_type": "code",
   "execution_count": null,
   "metadata": {},
   "outputs": [],
   "source": []
  },
  {
   "cell_type": "raw",
   "metadata": {},
   "source": [
    "we can use both args and kwargs together"
   ]
  },
  {
   "cell_type": "code",
   "execution_count": null,
   "metadata": {},
   "outputs": [],
   "source": []
  },
  {
   "cell_type": "code",
   "execution_count": 81,
   "metadata": {},
   "outputs": [],
   "source": [
    "def myfunc(*args,**kwargs):\n",
    "    print(f\"I would like {args[0]} {kwargs['food']}\")\n",
    "    "
   ]
  },
  {
   "cell_type": "code",
   "execution_count": null,
   "metadata": {},
   "outputs": [],
   "source": []
  },
  {
   "cell_type": "code",
   "execution_count": 82,
   "metadata": {},
   "outputs": [
    {
     "name": "stdout",
     "output_type": "stream",
     "text": [
      "I would like 10 chapati\n"
     ]
    }
   ],
   "source": [
    "myfunc(10,20,30,fruit='mango',food='chapati')"
   ]
  },
  {
   "cell_type": "code",
   "execution_count": null,
   "metadata": {},
   "outputs": [],
   "source": []
  },
  {
   "cell_type": "code",
   "execution_count": null,
   "metadata": {},
   "outputs": [],
   "source": []
  },
  {
   "cell_type": "code",
   "execution_count": null,
   "metadata": {},
   "outputs": [],
   "source": []
  },
  {
   "cell_type": "code",
   "execution_count": null,
   "metadata": {},
   "outputs": [],
   "source": []
  },
  {
   "cell_type": "code",
   "execution_count": null,
   "metadata": {},
   "outputs": [],
   "source": []
  },
  {
   "cell_type": "code",
   "execution_count": null,
   "metadata": {},
   "outputs": [],
   "source": []
  },
  {
   "cell_type": "code",
   "execution_count": null,
   "metadata": {},
   "outputs": [],
   "source": []
  },
  {
   "cell_type": "code",
   "execution_count": null,
   "metadata": {},
   "outputs": [],
   "source": []
  },
  {
   "cell_type": "code",
   "execution_count": null,
   "metadata": {},
   "outputs": [],
   "source": []
  },
  {
   "cell_type": "code",
   "execution_count": null,
   "metadata": {},
   "outputs": [],
   "source": []
  },
  {
   "cell_type": "code",
   "execution_count": null,
   "metadata": {},
   "outputs": [],
   "source": []
  },
  {
   "cell_type": "code",
   "execution_count": null,
   "metadata": {},
   "outputs": [],
   "source": []
  },
  {
   "cell_type": "code",
   "execution_count": null,
   "metadata": {},
   "outputs": [],
   "source": []
  },
  {
   "cell_type": "code",
   "execution_count": null,
   "metadata": {},
   "outputs": [],
   "source": []
  },
  {
   "cell_type": "code",
   "execution_count": null,
   "metadata": {},
   "outputs": [],
   "source": []
  }
 ],
 "metadata": {
  "kernelspec": {
   "display_name": "Python 3",
   "language": "python",
   "name": "python3"
  },
  "language_info": {
   "codemirror_mode": {
    "name": "ipython",
    "version": 3
   },
   "file_extension": ".py",
   "mimetype": "text/x-python",
   "name": "python",
   "nbconvert_exporter": "python",
   "pygments_lexer": "ipython3",
   "version": "3.7.3"
  }
 },
 "nbformat": 4,
 "nbformat_minor": 2
}
