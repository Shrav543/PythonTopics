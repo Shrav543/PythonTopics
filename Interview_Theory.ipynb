{
 "cells": [
  {
   "cell_type": "markdown",
   "metadata": {},
   "source": [
    "## class variables and instance variables."
   ]
  },
  {
   "cell_type": "raw",
   "metadata": {},
   "source": [
    "Class Variables — Declared inside the class definition (but outside any of the instance methods). They are not tied to any particular object of the class, hence shared across all the objects of the class. Modifying a class variable affects all objects instance at the same time."
   ]
  },
  {
   "cell_type": "raw",
   "metadata": {},
   "source": [
    "Instance Variable — Declared inside the constructor method of class (the __init__ method). They are tied to the particular object instance of the class, hence the contents of an instance variable are completely independent from one object instance to the other."
   ]
  },
  {
   "cell_type": "raw",
   "metadata": {},
   "source": [
    "Class variables are shared across all objects while instance variables are for data unique to each instance.\n",
    "Instance variable overrides the Class variables having same name"
   ]
  },
  {
   "cell_type": "code",
   "execution_count": null,
   "metadata": {},
   "outputs": [],
   "source": [
    "class Car:\n",
    "    wheel = 4 #this is class variable, shared across all the objects of the class\n",
    "    \n",
    "    def __init__(self,color,name):\n",
    "        self.color= color #instance variables, tied to particular instance\n",
    "        self.name = name\n",
    "        \n"
   ]
  },
  {
   "cell_type": "code",
   "execution_count": null,
   "metadata": {},
   "outputs": [],
   "source": [
    "Car.wheel"
   ]
  },
  {
   "cell_type": "code",
   "execution_count": null,
   "metadata": {},
   "outputs": [],
   "source": [
    "maruti = Car('Red','Brezza')"
   ]
  },
  {
   "cell_type": "code",
   "execution_count": null,
   "metadata": {},
   "outputs": [],
   "source": [
    "renault = Car('Black','Kwid')"
   ]
  },
  {
   "cell_type": "code",
   "execution_count": null,
   "metadata": {},
   "outputs": [],
   "source": [
    "maruti.wheel"
   ]
  },
  {
   "cell_type": "code",
   "execution_count": null,
   "metadata": {},
   "outputs": [],
   "source": [
    "maruti.wheel = 6 # now this is new wheel variable that has been added to maruti object.\n",
    "#this new variable shadows the class variable with same name(wheel), overriding and hiding it for this particular instance.\n"
   ]
  },
  {
   "cell_type": "code",
   "execution_count": null,
   "metadata": {},
   "outputs": [],
   "source": [
    "maruti.wheel"
   ]
  },
  {
   "cell_type": "code",
   "execution_count": null,
   "metadata": {},
   "outputs": [],
   "source": [
    "Car.wheel"
   ]
  },
  {
   "cell_type": "code",
   "execution_count": null,
   "metadata": {},
   "outputs": [],
   "source": [
    "renault.color"
   ]
  },
  {
   "cell_type": "code",
   "execution_count": null,
   "metadata": {},
   "outputs": [],
   "source": [
    "maruti.color"
   ]
  },
  {
   "cell_type": "code",
   "execution_count": null,
   "metadata": {},
   "outputs": [],
   "source": []
  },
  {
   "cell_type": "markdown",
   "metadata": {},
   "source": [
    "## Global variable Local Variable"
   ]
  },
  {
   "cell_type": "raw",
   "metadata": {},
   "source": [
    "Global variables are the one that are defined and declared outside a function and we need to use them inside a function.\n",
    "A varible defined inside the function has the scope within that function only are called local variables."
   ]
  },
  {
   "cell_type": "raw",
   "metadata": {},
   "source": [
    "If a variable with the same name is defined inside the scope of function as well then it will print the value given inside the function only and not the global value."
   ]
  },
  {
   "cell_type": "raw",
   "metadata": {},
   "source": [
    "you need to declare a variable global in a function when you want that function to be able to modify the global variable. If you only want to access it, then you don't need global."
   ]
  },
  {
   "cell_type": "code",
   "execution_count": null,
   "metadata": {},
   "outputs": [],
   "source": [
    "x = 5\n",
    "\n",
    "def access_only():\n",
    "    return x\n",
    "  # This returns whatever the global value of 'x' is\n",
    "\n",
    "def modify():\n",
    "    global x\n",
    "    x = 'modified'\n",
    "    return x\n",
    "  # This function makes the global 'x' equal to 'modified', and then returns that value\n",
    "\n",
    "def create_locally():\n",
    "    x = 'local!'\n",
    "    return x\n",
    "  # This function creates a new local variable named 'x', and sets it as 'local',\n",
    "  #  and returns that.  The global 'x' is untouched."
   ]
  },
  {
   "cell_type": "code",
   "execution_count": null,
   "metadata": {},
   "outputs": [],
   "source": []
  },
  {
   "cell_type": "code",
   "execution_count": null,
   "metadata": {},
   "outputs": [],
   "source": []
  },
  {
   "cell_type": "code",
   "execution_count": null,
   "metadata": {},
   "outputs": [],
   "source": []
  },
  {
   "cell_type": "code",
   "execution_count": null,
   "metadata": {},
   "outputs": [],
   "source": []
  },
  {
   "cell_type": "markdown",
   "metadata": {},
   "source": [
    "## Tuple "
   ]
  },
  {
   "cell_type": "raw",
   "metadata": {},
   "source": [
    " In python tuples are used to store immutable object. Python Tuples are very similar to lists except to some situations. Python tuples are immutable means that they can not be modified in whole program.\n",
    "\n",
    "Packing and Unpacking a Tuple : In Python there is a very powerful tuple assignment feature that assigns right hand side ofajax values into left hand side. In other way it is called unpacking of a tuple of values into a variable. In packing, we put values into a new tuple while in unpacking we extract those values into a single variable.\n",
    "\n",
    "rules:\n",
    "number of elments in the tuple must have variables on the left hand site to assign value.\n",
    "but alternatively we can use * with a variable."
   ]
  },
  {
   "cell_type": "code",
   "execution_count": null,
   "metadata": {},
   "outputs": [],
   "source": [
    "x, *y, z = (10, \"Geeks \", \" for \", \"Geeks \", 50)"
   ]
  },
  {
   "cell_type": "code",
   "execution_count": null,
   "metadata": {},
   "outputs": [],
   "source": []
  },
  {
   "cell_type": "code",
   "execution_count": null,
   "metadata": {},
   "outputs": [],
   "source": []
  },
  {
   "cell_type": "markdown",
   "metadata": {},
   "source": [
    "## Namedtuple\n",
    "\n",
    "import from collections"
   ]
  },
  {
   "cell_type": "raw",
   "metadata": {},
   "source": [
    "\n",
    "Python supports a type of container like dictionaries called “namedtuples()” present in module, “collections“.\n",
    "\n",
    "\n",
    "Like dictionaries they contain keys that are hashed to a particular value. But on contrary, it supports both access from key value and iteration, the functionality that dictionaries lack."
   ]
  },
  {
   "cell_type": "raw",
   "metadata": {},
   "source": [
    " Access by index"
   ]
  },
  {
   "cell_type": "raw",
   "metadata": {},
   "source": [
    " Access by Access by keyname"
   ]
  },
  {
   "cell_type": "raw",
   "metadata": {},
   "source": [
    " Aceess using getattr()"
   ]
  },
  {
   "cell_type": "code",
   "execution_count": null,
   "metadata": {},
   "outputs": [],
   "source": []
  },
  {
   "cell_type": "code",
   "execution_count": null,
   "metadata": {},
   "outputs": [],
   "source": [
    "# importing \"collections\" for namedtuple() \n",
    "import collections \n",
    "  \n",
    "# Declaring namedtuple() \n",
    "Student = collections.namedtuple('Student',['name','age','DOB']) \n",
    "  \n",
    "# Adding values \n",
    "S = Student('Nandini','19','2541997') \n",
    "  \n",
    "# Access using index \n",
    "print (\"The Student age using index is : \",end =\"\") \n",
    "print (S[1]) \n",
    "  \n",
    "# Access using name  \n",
    "print (\"The Student name using keyname is : \",end =\"\") \n",
    "print (S.name) \n",
    "  \n",
    "# Access using getattr() \n",
    "print (\"The Student DOB using getattr() is : \",end =\"\") \n",
    "print (getattr(S,'DOB')) "
   ]
  },
  {
   "cell_type": "code",
   "execution_count": null,
   "metadata": {},
   "outputs": [],
   "source": []
  },
  {
   "cell_type": "code",
   "execution_count": null,
   "metadata": {},
   "outputs": [],
   "source": []
  },
  {
   "cell_type": "code",
   "execution_count": null,
   "metadata": {},
   "outputs": [],
   "source": []
  },
  {
   "cell_type": "markdown",
   "metadata": {},
   "source": [
    "## Create Python Package"
   ]
  },
  {
   "cell_type": "raw",
   "metadata": {},
   "source": [
    "We know that a package may contain sub-packages and modules. A module is nothing but Python code.\n",
    "\n",
    "To create a Python package of our own, we create a directory and create a file __init__.py in it. We leave it empty. Then, in that package, we create a module(s) with whatever code we want"
   ]
  },
  {
   "cell_type": "code",
   "execution_count": null,
   "metadata": {},
   "outputs": [],
   "source": []
  },
  {
   "cell_type": "markdown",
   "metadata": {},
   "source": [
    "## Pypi"
   ]
  },
  {
   "cell_type": "raw",
   "metadata": {},
   "source": [
    "PyPI is the Python Package Index. This is a repository of software for Python. It has a large collection of packages and their binaries for a wide range of uses.\n",
    "\n",
    "when we use pip i.e. a package-management system\n",
    "it uses the packages from Pypi"
   ]
  },
  {
   "cell_type": "code",
   "execution_count": null,
   "metadata": {},
   "outputs": [],
   "source": []
  },
  {
   "cell_type": "markdown",
   "metadata": {},
   "source": [
    "## Pip"
   ]
  },
  {
   "cell_type": "raw",
   "metadata": {},
   "source": [
    "Pip will install the packages in\n",
    "\n",
    "Venv\\Lib\\site-packages\n",
    "\n",
    "\n",
    "we can \n",
    "\n",
    "pip show <packagename>\n",
    "to know the path"
   ]
  },
  {
   "cell_type": "code",
   "execution_count": null,
   "metadata": {},
   "outputs": [],
   "source": []
  },
  {
   "cell_type": "markdown",
   "metadata": {},
   "source": [
    "## Memory Management"
   ]
  },
  {
   "cell_type": "raw",
   "metadata": {},
   "source": [
    "Python has a private heap space to hold all objects and data structures. Being programmers, we cannot access it; it is the interpreter that manages it. But with the core API, we can access some tools. The Python memory manager controls the allocation.\n",
    "\n",
    "Additionally, an inbuilt garbage collector recycles all unused memory so it can make it available to the heap space."
   ]
  },
  {
   "cell_type": "code",
   "execution_count": null,
   "metadata": {},
   "outputs": [],
   "source": []
  },
  {
   "cell_type": "code",
   "execution_count": null,
   "metadata": {},
   "outputs": [],
   "source": []
  },
  {
   "cell_type": "markdown",
   "metadata": {},
   "source": [
    "## GIL ()"
   ]
  },
  {
   "cell_type": "raw",
   "metadata": {},
   "source": [
    "(mutex) is a program object that allows multiple program threads to share the same resource, such as file access, but not simultaneously.\n",
    "\n",
    "\n",
    "The GIL (Global Interpreter Lock) is a mutex that allows only one thread to hold access to the interpreter. That means only one thread can be in the state of execution at any given point of time.\n",
    "\n",
    "ensures that a single thread executes at a time.\n",
    "\n",
    "tick is a line of byte instruction code. so after a number of ticks the thread will release the GIL and give signals to other thread that they may use the interpreter.\n",
    "\n",
    "due to this there are overheads\n",
    "\n",
    "thread signaling\n",
    "awaking another thread\n",
    "acquiring GIL\n",
    "\n",
    "A thread holds the GIL and does a little work before passing it on to the next thread. This makes for an illusion of parallel execution. \n",
    "\n",
    "But in reality, it is just threaded taking turns at the CPU. Of course, all the passing around adds overhead to the execution.\n",
    "\n",
    "\n",
    "GIL advantages:\n",
    "\n",
    "in case of multithreadig we need to handle race condition while sharing shared resources.\n",
    "\n",
    "\n",
    "create a lock()\n",
    "lock= multiprocessing.lock()\n",
    "acquire the interpereter while using the shared resources\n",
    "\n",
    "lock.acquire()\n",
    "<code using shared resources>\n",
    "lock.release()\n",
    "\n",
    "now the gil can be used by other thread"
   ]
  },
  {
   "cell_type": "code",
   "execution_count": null,
   "metadata": {},
   "outputs": [],
   "source": []
  },
  {
   "cell_type": "code",
   "execution_count": null,
   "metadata": {},
   "outputs": [],
   "source": []
  },
  {
   "cell_type": "markdown",
   "metadata": {},
   "source": [
    "## inheritance in Django"
   ]
  },
  {
   "cell_type": "raw",
   "metadata": {},
   "source": [
    "Inheritance Styles in Django.\n",
    "\n",
    "Talking on inheritance styles, we have three possible-\n",
    "\n",
    "Abstract Base Classes- For the parent class to hold information so we don’t have to type it out for each child model\n",
    "\n",
    "Multi-table Inheritance- For subclassing an existing model and letting each model have its own database\n",
    "\n",
    "Proxy Models- For modifying the model’s Python-level behavior without having to change its fields"
   ]
  },
  {
   "cell_type": "code",
   "execution_count": null,
   "metadata": {},
   "outputs": [],
   "source": []
  },
  {
   "cell_type": "markdown",
   "metadata": {},
   "source": [
    "## Polymorphism"
   ]
  },
  {
   "cell_type": "code",
   "execution_count": null,
   "metadata": {},
   "outputs": [],
   "source": [
    "1. method overriding\n",
    "2. method overloading\n",
    "\n",
    "in python we dont have method overloading. the latest definintion of the method stands valid.\n",
    "\n",
    "where we can have 2 methods with same name but different parameters:\n",
    "    so we can use the trick where we defined the max number of inputs possible and assign the default value to None.\n",
    "    and then check all the combination of arguments that can be passed.\n",
    "    \n",
    "    so in the below code, we have an option to pass 3 , 2 or 1 arguments and the code with be executed accordingly.\n",
    "    \n",
    "or we can use *args\n",
    "that can take any number of input and implement logic accordingly.\n"
   ]
  },
  {
   "cell_type": "code",
   "execution_count": null,
   "metadata": {},
   "outputs": [],
   "source": [
    "class Student:\n",
    "    def avg(self,a=None,b=None,c=None):\n",
    "        s=0\n",
    "        if a!=None and b!=None and c!=None: #this means 3 paras have been passed\n",
    "            s = (a+b+c)/3\n",
    "        elif a!=None and b!=None: #this measn 2 parameters are passed\n",
    "            s = (a+b)/2 \n",
    "        else:\n",
    "            s = a\n",
    "        \n",
    "        return s\n",
    "  "
   ]
  },
  {
   "cell_type": "code",
   "execution_count": null,
   "metadata": {},
   "outputs": [],
   "source": [
    "a = Student()"
   ]
  },
  {
   "cell_type": "code",
   "execution_count": null,
   "metadata": {},
   "outputs": [],
   "source": [
    "a.avg(5,6)"
   ]
  },
  {
   "cell_type": "code",
   "execution_count": null,
   "metadata": {},
   "outputs": [],
   "source": [
    "a.avg(2,4,6)"
   ]
  },
  {
   "cell_type": "code",
   "execution_count": null,
   "metadata": {},
   "outputs": [],
   "source": []
  },
  {
   "cell_type": "code",
   "execution_count": null,
   "metadata": {},
   "outputs": [],
   "source": [
    "class Student:\n",
    "    def avg(self,*args):\n",
    "        a=sum(args)/len(args)\n",
    "        return a"
   ]
  },
  {
   "cell_type": "code",
   "execution_count": null,
   "metadata": {},
   "outputs": [],
   "source": [
    "a = Student()"
   ]
  },
  {
   "cell_type": "code",
   "execution_count": null,
   "metadata": {},
   "outputs": [],
   "source": [
    "a.avg(5,6)"
   ]
  },
  {
   "cell_type": "code",
   "execution_count": null,
   "metadata": {},
   "outputs": [],
   "source": [
    "a.avg(2,4,6)"
   ]
  },
  {
   "cell_type": "code",
   "execution_count": null,
   "metadata": {},
   "outputs": [],
   "source": []
  },
  {
   "cell_type": "markdown",
   "metadata": {},
   "source": [
    "## Python is neither call-by-value, nor call-by-reference. It is call-by-object-reference. Almost everything is an object in Python."
   ]
  },
  {
   "cell_type": "code",
   "execution_count": null,
   "metadata": {},
   "outputs": [],
   "source": [
    "IN PYTHON,\n",
    "\n",
    "we have two concepts \n",
    "1. mutable\n",
    "2.immutable\n",
    "\n",
    "in case of immutable objects:\n",
    "so if we have a function to which we are passing a value reference\n",
    "\n",
    "the id will be same for the variable untill it is modified"
   ]
  },
  {
   "cell_type": "code",
   "execution_count": null,
   "metadata": {},
   "outputs": [],
   "source": [
    "def func(x):\n",
    "    print(id(x))\n",
    "    x=x+1\n",
    "    print(id(x))\n",
    "    return x"
   ]
  },
  {
   "cell_type": "code",
   "execution_count": null,
   "metadata": {},
   "outputs": [],
   "source": [
    "a = 10d\n",
    "ef func(x):\n",
    "    print(id(x))\n",
    "    x=x+1\n",
    "    print(id(x))\n",
    "    return x\n",
    "print(id(a))\n",
    "func(a)"
   ]
  },
  {
   "cell_type": "code",
   "execution_count": null,
   "metadata": {},
   "outputs": [],
   "source": []
  },
  {
   "cell_type": "raw",
   "metadata": {},
   "source": [
    "in case of mutable objects like list,tuple:\n",
    "so if we have a function to which we are passing a value reference\n",
    "\n",
    "the id will be same for the variable even after we change the values in list, and it will also modify the original list"
   ]
  },
  {
   "cell_type": "code",
   "execution_count": null,
   "metadata": {},
   "outputs": [],
   "source": []
  },
  {
   "cell_type": "code",
   "execution_count": null,
   "metadata": {},
   "outputs": [],
   "source": [
    "def func1(listx):\n",
    "    print(id(listx))\n",
    "    listx[1]=1\n",
    "    print(id(listx))\n",
    "    return listx"
   ]
  },
  {
   "cell_type": "code",
   "execution_count": null,
   "metadata": {},
   "outputs": [],
   "source": [
    "lista=[5,9,6]\n",
    "print(id(lista))\n",
    "listb=func1(lista)"
   ]
  },
  {
   "cell_type": "code",
   "execution_count": null,
   "metadata": {},
   "outputs": [],
   "source": [
    "lista"
   ]
  },
  {
   "cell_type": "code",
   "execution_count": null,
   "metadata": {},
   "outputs": [],
   "source": [
    "listb"
   ]
  },
  {
   "cell_type": "code",
   "execution_count": null,
   "metadata": {},
   "outputs": [],
   "source": []
  },
  {
   "cell_type": "code",
   "execution_count": null,
   "metadata": {},
   "outputs": [],
   "source": []
  },
  {
   "cell_type": "code",
   "execution_count": null,
   "metadata": {},
   "outputs": [],
   "source": []
  },
  {
   "cell_type": "code",
   "execution_count": null,
   "metadata": {},
   "outputs": [],
   "source": []
  },
  {
   "cell_type": "markdown",
   "metadata": {},
   "source": [
    "## Pickling and unpickling \n",
    "        It’s a serialization and deserialization module of python objects.Construct and Deconstruct.\n",
    "Python object (list, class etc) are pickled or serialized in byte streams and saved(dumped) to the machine and later it can be unpickled or deserialised to recreate the object from bytes.\n",
    "\n",
    "\n",
    "Python pickle module is used for serializing and de-serializing a Python object structure. Any object in Python can be pickled so that it can be saved on disk. What pickle does is that it “serializes” the object first before writing it to file. Pickling is a way to convert a python object (list, dict, etc.) into a character stream. The idea is that this character stream contains all the information necessary to reconstruct the object in another python script.\n",
    "\n",
    "\n",
    "pickle.dump    #for filr\n",
    "pickle.dumps   #for stream of characters\n",
    "\n",
    "\n",
    "\n",
    "\n",
    "\n",
    "Advantages of using Pickle Module:\n",
    "\n",
    "Recursive objects (objects containing references to themselves): Pickle keeps track of the objects it has already serialized, so later references to the same object won’t be serialized again. (The marshal module breaks for this.)\n",
    "\n",
    "\n",
    "\n",
    "Object sharing (references to the same object in different places): This is similar to self- referencing objects; pickle stores the object once, and ensures that all other references point to the master copy. Shared objects remain shared, which can be very important for mutable objects.\n",
    "\n",
    "\n",
    "User-defined classes and their instances: Marshal does not support these at all, but pickle can save and restore class instances transparently. The class definition must be importable and live in the same module as when the object was stored.\n",
    "\n",
    "\n",
    "\n",
    "Generally you can pickle any object if you can pickle every attribute of that object. Classes, functions, and methods cannot be pickled -- if you pickle an object, the object's class is not pickled, just a string that identifies what class it belongs to.\n",
    "\n",
    "\n",
    "Example:\n",
    "\n",
    "in machine learn we create a classifier after training the module.\n",
    "now everytime you need the classifier you would need to train the model again. \n",
    "or rather you can save the the classifier by pickling(dump)-serialise it and then unpickle for use by loading it.\n",
    "\n",
    "\n",
    "if u have a large data set u access very frequently, now everytime you want data u may need to connect to sql and read csv and do a lot of time cosuming events as reading takes time , there you can use pickle.\n",
    "\n",
    "\n"
   ]
  },
  {
   "cell_type": "code",
   "execution_count": null,
   "metadata": {},
   "outputs": [],
   "source": []
  },
  {
   "cell_type": "code",
   "execution_count": null,
   "metadata": {},
   "outputs": [],
   "source": [
    "#pickle object to bytes\n",
    "import pickle\n",
    "Example_dict = {1:\"6\",2:\"six\"}\n",
    "with open(r\"C:\\Users\\Gaurav Sharma\\Desktop\\dict.pickle\",\"wb\") as f:\n",
    "    pickle.dump(Example_dict,f)\n",
    "    "
   ]
  },
  {
   "cell_type": "code",
   "execution_count": null,
   "metadata": {},
   "outputs": [],
   "source": []
  },
  {
   "cell_type": "code",
   "execution_count": null,
   "metadata": {},
   "outputs": [],
   "source": [
    "#unpickle bytes to object\n",
    "with open(r\"C:\\Users\\Gaurav Sharma\\Desktop\\dict.pickle\",\"rb\") as f:\n",
    "    dict2 = pickle.load(f)\n",
    "    print(f.read())"
   ]
  },
  {
   "cell_type": "code",
   "execution_count": null,
   "metadata": {},
   "outputs": [],
   "source": [
    "print(dict2)"
   ]
  },
  {
   "cell_type": "code",
   "execution_count": null,
   "metadata": {},
   "outputs": [],
   "source": []
  },
  {
   "cell_type": "code",
   "execution_count": null,
   "metadata": {},
   "outputs": [],
   "source": []
  },
  {
   "cell_type": "code",
   "execution_count": null,
   "metadata": {},
   "outputs": [],
   "source": []
  },
  {
   "cell_type": "code",
   "execution_count": null,
   "metadata": {},
   "outputs": [],
   "source": []
  },
  {
   "cell_type": "code",
   "execution_count": null,
   "metadata": {},
   "outputs": [],
   "source": []
  },
  {
   "cell_type": "markdown",
   "metadata": {},
   "source": [
    "## What does the if __name__ == “__main__”: do?\n",
    "Before executing code, Python interpreter reads source file and define few special variables/global variables.\n",
    "\n",
    "If the python interpreter is running that module (the source file) as the main program, it sets the special __name__ variable to have a value “__main__”. \n",
    "\n",
    "If this file is being imported from another module, __name__ will be set to the module’s name."
   ]
  },
  {
   "cell_type": "code",
   "execution_count": null,
   "metadata": {},
   "outputs": [],
   "source": []
  },
  {
   "cell_type": "markdown",
   "metadata": {},
   "source": [
    "## Importance of Venv"
   ]
  },
  {
   "cell_type": "raw",
   "metadata": {},
   "source": [
    "the main purpose of Python virtual environments is to create an isolated environment for Python projects. This means that each project can have its own dependencies, regardless of what dependencies every other project has."
   ]
  },
  {
   "cell_type": "raw",
   "metadata": {},
   "source": [
    "In another case just imagine that you have an application which is fully developed and you do not want to make any change to the libraries it is using but at the same time you start developing another application which requires the updated versions of those libraries. \n",
    "It creates isolated environments for you python application and allows you to install python libraries in that isolated environment instead of installing them globally"
   ]
  },
  {
   "cell_type": "code",
   "execution_count": null,
   "metadata": {},
   "outputs": [],
   "source": [
    "You can customise the environment as per your needs. "
   ]
  },
  {
   "cell_type": "code",
   "execution_count": null,
   "metadata": {},
   "outputs": [],
   "source": [
    "pip install virtualenv"
   ]
  },
  {
   "cell_type": "code",
   "execution_count": null,
   "metadata": {},
   "outputs": [],
   "source": [
    "virtualenv projecenv"
   ]
  },
  {
   "cell_type": "code",
   "execution_count": null,
   "metadata": {},
   "outputs": [],
   "source": [
    "activate this env # Scripts\\activate"
   ]
  },
  {
   "cell_type": "markdown",
   "metadata": {},
   "source": [
    "## Closure function\n",
    "\n",
    "nested functions - function inside another function\n",
    "\n",
    "As observed from above code, closures help to invoke function outside their scope.\n",
    "\n",
    "A CLOSURE CLOSES OVER FREE VARIABLES FROM THEIR ENVIRONMENT\n",
    "\n",
    "Nested functions can access variables of the enclosing scope. like innerfunction can access variables for outerfunction.\n",
    "\n",
    "a closure is an inner function that remembers and has access to the variables in the scope where it was created even after the outer func is done executed.\n",
    "\n",
    "The function innerFunction has its scope only inside the outerFunction. \n",
    "But with the use of closures we can easily extend its scope to invoke a function outside its scope.\n",
    "\n",
    "\n",
    "A closure in Python is said to occur when a nested function references a value in its enclosing scope.\n",
    "The whole point here is that it remembers the value.\n",
    "\n",
    "\n",
    "\n",
    "1. We must have a nested function (function inside a function).\n",
    "2. The nested function must refer to a value defined in the enclosing function.\n",
    "3. The enclosing function must return the nested function.\n",
    "\n",
    "\n",
    "\n",
    "Closures can avoid the use of global values and provides some form of data hiding.\n",
    "\n",
    "\n",
    "When there are few methods (one method in most cases) to be implemented in a class, closures can provide an alternate and more elegant solution. But when the number of attributes and methods get larger, it's better to implement a class.\n",
    "\n",
    "\n"
   ]
  },
  {
   "cell_type": "code",
   "execution_count": null,
   "metadata": {},
   "outputs": [],
   "source": []
  },
  {
   "cell_type": "code",
   "execution_count": null,
   "metadata": {},
   "outputs": [],
   "source": []
  },
  {
   "cell_type": "code",
   "execution_count": null,
   "metadata": {},
   "outputs": [],
   "source": [
    "# Python program to illustrate \n",
    "# closures \n",
    "def outerFunction(msg): \n",
    "    text = msg \n",
    "  \n",
    "    def innerFunction(): \n",
    "        print(text) \n",
    "  \n",
    "    return innerFunction # Note we are returning function WITHOUT parenthesis \n",
    "  \n",
    "if __name__ == '__main__': \n",
    "    myFunction = outerFunction('Hey!')   #so now myfunction is the innerfunction\n",
    "    myFunction() "
   ]
  },
  {
   "cell_type": "code",
   "execution_count": null,
   "metadata": {},
   "outputs": [],
   "source": [
    "def outerFunction(msg): \n",
    "    text = msg  \n",
    "  \n",
    "    def innerFunction(): \n",
    "        print(text) #text here is a free variable\n",
    "  \n",
    "    return innerFunction\n",
    "\n",
    "hi_func= outerFunction('Hi')\n",
    "hello_func = outerFunction('Hello')\n",
    "\n",
    "\n",
    "hi_func()  #each of these func remeber their text variable\n",
    "hello_func()"
   ]
  },
  {
   "cell_type": "code",
   "execution_count": null,
   "metadata": {},
   "outputs": [],
   "source": []
  },
  {
   "cell_type": "code",
   "execution_count": null,
   "metadata": {},
   "outputs": [],
   "source": [
    "# Python program to illustrate \n",
    "# closures \n",
    "import logging \n",
    "logging.basicConfig(filename='example.log', level=logging.INFO) \n",
    "  \n",
    "  \n",
    "def logger(func): \n",
    "    def log_func(*args): \n",
    "        logging.info( \n",
    "            'Running \"{}\" with arguments {}'.format(func.__name__, args)) \n",
    "        print(func(*args)) \n",
    "    # Necessary for closure to work (returning WITHOUT parenthesis) \n",
    "    return log_func               \n",
    "  \n",
    "def add(x, y): \n",
    "    return x+y \n",
    "  \n",
    "def sub(x, y): \n",
    "    return x-y \n",
    "  \n",
    "add_logger = logger(add) \n",
    "sub_logger = logger(sub) \n",
    "  \n",
    "add_logger(3, 3) \n",
    "add_logger(4, 5) \n",
    "  \n",
    "sub_logger(10, 5) \n",
    "sub_logger(20, 10)"
   ]
  },
  {
   "cell_type": "code",
   "execution_count": null,
   "metadata": {},
   "outputs": [],
   "source": []
  },
  {
   "cell_type": "markdown",
   "metadata": {},
   "source": [
    "## Decorators\n",
    "\n",
    "\n",
    "Decorators are very powerful and useful tool in Python since it allows programmers to modify the behavior of function or class. Decorators allow us to wrap another function in order to extend the behavior of wrapped function, without permanently modifying it.\n",
    "\n",
    "In Decorators, functions are taken as the argument into another function and then called inside the wrapper function."
   ]
  },
  {
   "cell_type": "raw",
   "metadata": {},
   "source": [
    "Function decorator\n",
    "\n",
    "@gfg_decorator\n",
    "def hello_decorator(): \n",
    "    print(\"Gfg\") \n",
    "  \n",
    "'''Above code is equivalent to - \n",
    "  \n",
    "def hello_decorator(): \n",
    "    print(\"Gfg\") \n",
    "      \n",
    "hello_decorator = gfg_decorator(hello_decorator)'''"
   ]
  },
  {
   "cell_type": "raw",
   "metadata": {},
   "source": [
    "Class Decorator\n",
    "\n",
    "class decorator2:\n",
    "    \n",
    "    def __init__(self, f):\n",
    "        self.f = f\n",
    "        \n",
    "    def __call__(self):\n",
    "        print(\"Decorating\", self.f.__name__)\n",
    "        self.f()\n",
    "\n",
    "@decorator2\n",
    "def foo():\n",
    "    print(\"inside foo()\")\n",
    "\n",
    "foo()"
   ]
  },
  {
   "cell_type": "code",
   "execution_count": null,
   "metadata": {},
   "outputs": [],
   "source": [
    "# defining a decorator \n",
    "def hello_decorator(func): \n",
    "  \n",
    "    # inner1 is a Wrapper function in  \n",
    "    # which the argument is called \n",
    "      \n",
    "    # inner function can access the outer local \n",
    "    # functions like in this case \"func\" \n",
    "    def inner1(): \n",
    "        print(\"Hello, this is before function execution\") \n",
    "  \n",
    "        # calling the actual function now \n",
    "        # inside the wrapper function. \n",
    "        func() \n",
    "  \n",
    "        print(\"This is after function execution\") \n",
    "          \n",
    "    return inner1 \n",
    "  \n",
    "  \n",
    "# defining a function, to be called inside wrapper \n",
    "def function_to_be_used(): \n",
    "    print(\"This is inside the function !!\") \n",
    "  \n",
    "  \n",
    "# passing 'function_to_be_used' inside the \n",
    "# decorator to control its behavior \n",
    "function_to_be_used = hello_decorator(function_to_be_used) \n",
    "  \n",
    "  \n",
    "# calling the function \n",
    "function_to_be_used() "
   ]
  },
  {
   "cell_type": "code",
   "execution_count": null,
   "metadata": {},
   "outputs": [],
   "source": [
    "class decorator2:\n",
    "    \n",
    "    def __init__(self, f):\n",
    "        self.f = f\n",
    "        \n",
    "    def __call__(self):\n",
    "        print(\"Decorating\", self.f.__name__)\n",
    "        self.f()\n",
    "\n",
    "@decorator2\n",
    "def foo():\n",
    "    print(\"inside foo()\")\n",
    "\n",
    "foo()"
   ]
  },
  {
   "cell_type": "code",
   "execution_count": null,
   "metadata": {},
   "outputs": [],
   "source": []
  },
  {
   "cell_type": "code",
   "execution_count": null,
   "metadata": {},
   "outputs": [],
   "source": []
  },
  {
   "cell_type": "code",
   "execution_count": null,
   "metadata": {},
   "outputs": [],
   "source": []
  },
  {
   "cell_type": "markdown",
   "metadata": {},
   "source": [
    "## Python also accepts function recursion, which means a defined function can call itself. \n",
    "\n",
    "Recursion is a common mathematical and programming concept. It means that a function calls itself. This has the benefit of meaning that you can loop through data to reach a result.\n",
    "\n",
    "dafault 1000 times"
   ]
  },
  {
   "cell_type": "code",
   "execution_count": null,
   "metadata": {},
   "outputs": [],
   "source": []
  },
  {
   "cell_type": "code",
   "execution_count": null,
   "metadata": {},
   "outputs": [],
   "source": [
    "def factorial1(n):\n",
    "    if n < 0:\n",
    "        print(\"Please enter positive number\")\n",
    "    elif n == 0 :\n",
    "        return 1\n",
    "    else:\n",
    "        return n*factorial1(n-1)"
   ]
  },
  {
   "cell_type": "code",
   "execution_count": null,
   "metadata": {},
   "outputs": [],
   "source": [
    "factorial1(2)"
   ]
  },
  {
   "cell_type": "markdown",
   "metadata": {},
   "source": [
    "## Filter"
   ]
  },
  {
   "cell_type": "markdown",
   "metadata": {},
   "source": [
    "\n",
    "\n"
   ]
  },
  {
   "cell_type": "raw",
   "metadata": {},
   "source": [
    "[expression for item in list if conditional ]\n",
    "\n",
    "filter(function,sequence)\n",
    "\n",
    "it only returns the data for which the function is true based on certain condition\n",
    "\n",
    "\n",
    "filter and map return iterators. You can convert them to lists by wrapping in list.\n",
    "where you have conditions use filter to return iterator based on the condition.\n"
   ]
  },
  {
   "cell_type": "code",
   "execution_count": null,
   "metadata": {},
   "outputs": [],
   "source": [
    "def odd(num):\n",
    "    if num % 2 !=0:\n",
    "        return num\n",
    "  \n",
    "    \n",
    "    \n",
    "old_list=[1,2,3,4,8,9,9,7,10]\n",
    "maplist= list(filter(odd,set(old_list)))\n",
    "\n",
    "\n",
    "newlist2 = list(filter( lambda n: n % 2 !=0, set(old_list)))\n",
    "newlist3 = list(map(lambda n: n ** 2 , newlist2))"
   ]
  },
  {
   "cell_type": "code",
   "execution_count": null,
   "metadata": {},
   "outputs": [],
   "source": [
    "print(maplist)"
   ]
  },
  {
   "cell_type": "code",
   "execution_count": null,
   "metadata": {},
   "outputs": [],
   "source": [
    "print(newlist3)"
   ]
  },
  {
   "cell_type": "code",
   "execution_count": null,
   "metadata": {},
   "outputs": [],
   "source": [
    "def odd(nums):\n",
    "    odds=[]\n",
    "    for num in set(nums):\n",
    "        if num % 2 != 0:\n",
    "            odds.append(num)\n",
    "    return odds"
   ]
  },
  {
   "cell_type": "code",
   "execution_count": null,
   "metadata": {},
   "outputs": [],
   "source": [
    "numss=[1,2,5,4,7,8,6,9,5,6]\n",
    "odd(numss)"
   ]
  },
  {
   "cell_type": "code",
   "execution_count": null,
   "metadata": {},
   "outputs": [],
   "source": []
  },
  {
   "cell_type": "markdown",
   "metadata": {},
   "source": [
    "## reduce"
   ]
  },
  {
   "cell_type": "raw",
   "metadata": {},
   "source": [
    "from functools import reduce"
   ]
  },
  {
   "cell_type": "raw",
   "metadata": {},
   "source": [
    "instead of reduce use For loop\n",
    "\n",
    "reduce takes a function and a data collection,\n",
    "the function here should take two arguments.\n",
    "\n",
    "reduce(function,dataset)"
   ]
  },
  {
   "cell_type": "raw",
   "metadata": {},
   "source": [
    "reduce first takes 2 elemnts from the a data collection and apply the function to it.\n",
    "\n",
    "in the next step, it will take the result of the first calculation and the 3rd element from the data collection and apply the function to it and so on.. and at last returns the computed nested values."
   ]
  },
  {
   "cell_type": "code",
   "execution_count": null,
   "metadata": {},
   "outputs": [],
   "source": []
  },
  {
   "cell_type": "code",
   "execution_count": null,
   "metadata": {},
   "outputs": [],
   "source": []
  },
  {
   "cell_type": "code",
   "execution_count": null,
   "metadata": {},
   "outputs": [],
   "source": [
    "from functools import reduce\n",
    "numbers = [1,2,3,4,5,6]\n",
    "odd_numbers = list(filter(lambda n: n % 2 == 1, numbers))\n",
    "squared_odd_numbers = list(map(lambda n: n * n, odd_numbers))\n",
    "total = reduce(lambda acc, n: acc + n, squared_odd_numbers)"
   ]
  },
  {
   "cell_type": "code",
   "execution_count": null,
   "metadata": {},
   "outputs": [],
   "source": [
    "odd_numbers"
   ]
  },
  {
   "cell_type": "code",
   "execution_count": null,
   "metadata": {},
   "outputs": [],
   "source": []
  },
  {
   "cell_type": "code",
   "execution_count": null,
   "metadata": {},
   "outputs": [],
   "source": []
  },
  {
   "cell_type": "markdown",
   "metadata": {},
   "source": [
    " ## Python standard libraries"
   ]
  },
  {
   "cell_type": "code",
   "execution_count": null,
   "metadata": {},
   "outputs": [],
   "source": [
    "os\n",
    "sys\n",
    "json\n",
    "datetime\n",
    "csv\n",
    "logging\n",
    "calender"
   ]
  },
  {
   "cell_type": "code",
   "execution_count": null,
   "metadata": {},
   "outputs": [],
   "source": []
  },
  {
   "cell_type": "code",
   "execution_count": null,
   "metadata": {},
   "outputs": [],
   "source": [
    "import sys"
   ]
  },
  {
   "cell_type": "code",
   "execution_count": null,
   "metadata": {},
   "outputs": [],
   "source": [
    "print(sys.path)"
   ]
  },
  {
   "cell_type": "code",
   "execution_count": null,
   "metadata": {},
   "outputs": [],
   "source": [
    "import calendar\n",
    "import datetime\n"
   ]
  },
  {
   "cell_type": "code",
   "execution_count": null,
   "metadata": {},
   "outputs": [],
   "source": [
    "print(datetime.date.today())"
   ]
  },
  {
   "cell_type": "code",
   "execution_count": null,
   "metadata": {},
   "outputs": [],
   "source": [
    "print(calendar.isleap(2014))"
   ]
  },
  {
   "cell_type": "code",
   "execution_count": null,
   "metadata": {},
   "outputs": [],
   "source": [
    "print(calendar.month(2016,5))"
   ]
  },
  {
   "cell_type": "code",
   "execution_count": null,
   "metadata": {},
   "outputs": [],
   "source": []
  },
  {
   "cell_type": "code",
   "execution_count": null,
   "metadata": {},
   "outputs": [],
   "source": []
  },
  {
   "cell_type": "code",
   "execution_count": null,
   "metadata": {},
   "outputs": [],
   "source": []
  },
  {
   "cell_type": "markdown",
   "metadata": {},
   "source": [
    "## Dictinary comprehension\n",
    "\n",
    "Dictionary comprehension is an elegant and concise way to create dictionaries.\n",
    "\n"
   ]
  },
  {
   "cell_type": "code",
   "execution_count": null,
   "metadata": {},
   "outputs": [],
   "source": []
  },
  {
   "cell_type": "code",
   "execution_count": null,
   "metadata": {},
   "outputs": [],
   "source": [
    "Dictionary comprehension is an elegant and concise way to create dictionaries.\n",
    "\n"
   ]
  },
  {
   "cell_type": "code",
   "execution_count": null,
   "metadata": {},
   "outputs": [],
   "source": [
    "square_dict = {}\n",
    "for num in range(1, 11):\n",
    "    square_dict[num] = num*num\n",
    "print(square_dict)"
   ]
  },
  {
   "cell_type": "code",
   "execution_count": null,
   "metadata": {},
   "outputs": [],
   "source": [
    "sqaure_dict = {num : num**2 for num in range(1,11) if num > 4}"
   ]
  },
  {
   "cell_type": "code",
   "execution_count": null,
   "metadata": {
    "scrolled": true
   },
   "outputs": [],
   "source": [
    "print(sqaure_dict)"
   ]
  },
  {
   "cell_type": "code",
   "execution_count": null,
   "metadata": {},
   "outputs": [],
   "source": []
  },
  {
   "cell_type": "code",
   "execution_count": null,
   "metadata": {},
   "outputs": [],
   "source": [
    "\n"
   ]
  },
  {
   "cell_type": "markdown",
   "metadata": {},
   "source": [
    "## Set Comprehensions"
   ]
  },
  {
   "cell_type": "code",
   "execution_count": null,
   "metadata": {
    "scrolled": true
   },
   "outputs": [],
   "source": [
    "{s for s in [1, 2, 3] if s % 2}\n"
   ]
  },
  {
   "cell_type": "code",
   "execution_count": null,
   "metadata": {},
   "outputs": [],
   "source": [
    "{num*num for num in nums if num>2}"
   ]
  },
  {
   "cell_type": "code",
   "execution_count": null,
   "metadata": {},
   "outputs": [],
   "source": []
  },
  {
   "cell_type": "code",
   "execution_count": null,
   "metadata": {},
   "outputs": [],
   "source": []
  },
  {
   "cell_type": "markdown",
   "metadata": {},
   "source": [
    "## set and Frozenset\n",
    "\n",
    "## Sets are mutable"
   ]
  },
  {
   "cell_type": "code",
   "execution_count": null,
   "metadata": {},
   "outputs": [],
   "source": [
    "l = [1,9,8,5,2,4,4,5,2,6,9,8]"
   ]
  },
  {
   "cell_type": "code",
   "execution_count": null,
   "metadata": {},
   "outputs": [],
   "source": [
    "s1=set(l)"
   ]
  },
  {
   "cell_type": "raw",
   "metadata": {},
   "source": [
    "set is unordered collection of data and doesnt support indexin \n",
    "set removes the duplicate.\n",
    "\n",
    "sets are mutable that means we can add or remove data from a set\n",
    "\n",
    "You cannot access items in a set by referring to an index, since sets are unordered the items has no index.\n",
    "\n",
    "But you can loop through the set items using a for loop, or ask if a specified value is present in a set, by using the in keyword."
   ]
  },
  {
   "cell_type": "code",
   "execution_count": null,
   "metadata": {},
   "outputs": [],
   "source": [
    "s1.add(5)"
   ]
  },
  {
   "cell_type": "code",
   "execution_count": null,
   "metadata": {},
   "outputs": [],
   "source": [
    "s1"
   ]
  },
  {
   "cell_type": "code",
   "execution_count": null,
   "metadata": {},
   "outputs": [],
   "source": []
  },
  {
   "cell_type": "markdown",
   "metadata": {},
   "source": [
    "## Frozensets are immutable that means the data can not be changed.\n",
    "\n",
    "frozenset is immutable, there are no methods available to alter its elements. So add(), remove(), update(), pop() etc. functions are not defined for frozenset."
   ]
  },
  {
   "cell_type": "code",
   "execution_count": null,
   "metadata": {},
   "outputs": [],
   "source": [
    "l = [9,6,4,8,5,6,5,1,12,13]"
   ]
  },
  {
   "cell_type": "code",
   "execution_count": null,
   "metadata": {},
   "outputs": [],
   "source": [
    "s = frozenset(l)"
   ]
  },
  {
   "cell_type": "code",
   "execution_count": null,
   "metadata": {},
   "outputs": [],
   "source": [
    "s"
   ]
  },
  {
   "cell_type": "code",
   "execution_count": null,
   "metadata": {
    "scrolled": false
   },
   "outputs": [],
   "source": [
    "s.add(5) #this will give error"
   ]
  },
  {
   "cell_type": "code",
   "execution_count": null,
   "metadata": {
    "scrolled": true
   },
   "outputs": [],
   "source": [
    "s1|s    #set union (or operation)"
   ]
  },
  {
   "cell_type": "code",
   "execution_count": null,
   "metadata": {},
   "outputs": [],
   "source": [
    "s1&s   #set intersaction (and operation)"
   ]
  },
  {
   "cell_type": "code",
   "execution_count": null,
   "metadata": {},
   "outputs": [],
   "source": []
  },
  {
   "cell_type": "code",
   "execution_count": null,
   "metadata": {},
   "outputs": [],
   "source": []
  },
  {
   "cell_type": "code",
   "execution_count": null,
   "metadata": {},
   "outputs": [],
   "source": []
  },
  {
   "cell_type": "code",
   "execution_count": null,
   "metadata": {},
   "outputs": [],
   "source": []
  },
  {
   "cell_type": "code",
   "execution_count": null,
   "metadata": {},
   "outputs": [],
   "source": []
  },
  {
   "cell_type": "code",
   "execution_count": null,
   "metadata": {},
   "outputs": [],
   "source": []
  },
  {
   "cell_type": "markdown",
   "metadata": {},
   "source": [
    "## Lambda Function"
   ]
  },
  {
   "cell_type": "markdown",
   "metadata": {},
   "source": [
    "A lambda function is a small anonymous function.\n",
    "\n",
    "A lambda function can take any number of arguments, but can only have one expression.\n",
    "\n",
    "lambda arguments : expression"
   ]
  },
  {
   "cell_type": "code",
   "execution_count": null,
   "metadata": {},
   "outputs": [],
   "source": [
    "x = lambda a, b : a * b\n",
    "print(x(5, 6))"
   ]
  },
  {
   "cell_type": "code",
   "execution_count": null,
   "metadata": {},
   "outputs": [],
   "source": []
  },
  {
   "cell_type": "code",
   "execution_count": null,
   "metadata": {},
   "outputs": [],
   "source": [
    "def myfunc(n):\n",
    "  return lambda a : a * n\n",
    "\n",
    "mytripler = myfunc(3)\n",
    "\n",
    "print(mytripler(11))"
   ]
  },
  {
   "cell_type": "code",
   "execution_count": null,
   "metadata": {},
   "outputs": [],
   "source": []
  },
  {
   "cell_type": "code",
   "execution_count": null,
   "metadata": {},
   "outputs": [],
   "source": []
  },
  {
   "cell_type": "code",
   "execution_count": null,
   "metadata": {},
   "outputs": [],
   "source": []
  },
  {
   "cell_type": "code",
   "execution_count": null,
   "metadata": {},
   "outputs": [],
   "source": []
  },
  {
   "cell_type": "code",
   "execution_count": null,
   "metadata": {},
   "outputs": [],
   "source": []
  },
  {
   "cell_type": "markdown",
   "metadata": {},
   "source": [
    "## Foreign key constraints\n",
    "The following SQL creates a FOREIGN KEY on the \"PersonID\" column when the \"Orders\" table is created:\n",
    "\n",
    "A FOREIGN KEY constraint does not have to be linked only to a PRIMARY KEY constraint in another table; it can also be defined to reference the columns of a UNIQUE constraint in another table.\n",
    "\n",
    "The main purpose of FOREIGN KEY is, only those values will appear which are present in the primary key table."
   ]
  },
  {
   "cell_type": "raw",
   "metadata": {},
   "source": [
    "Create table order(\n",
    "    orderID int NOT NULL PRIMARY KEY,\n",
    "    orderNum int NOT NULL UNIQUE,\n",
    "    personID int FOREIGN KEY REFERENCE Persons(PersonID)\n",
    "\n",
    ")"
   ]
  },
  {
   "cell_type": "code",
   "execution_count": null,
   "metadata": {},
   "outputs": [],
   "source": []
  },
  {
   "cell_type": "code",
   "execution_count": null,
   "metadata": {},
   "outputs": [],
   "source": []
  },
  {
   "cell_type": "markdown",
   "metadata": {},
   "source": [
    "## Difference Between Groupby and having"
   ]
  },
  {
   "cell_type": "raw",
   "metadata": {},
   "source": [
    "1. you can use the WHERE clause with UPDATE and DELETE clause but the HAVING clause can only be used with SELECT query.\n",
    "2. WHERE is used in any SELECT query, while HAVING clause is only used in SELECT queries, which contains aggregate function or group by clause"
   ]
  },
  {
   "cell_type": "code",
   "execution_count": null,
   "metadata": {},
   "outputs": [],
   "source": []
  },
  {
   "cell_type": "code",
   "execution_count": null,
   "metadata": {},
   "outputs": [],
   "source": []
  },
  {
   "cell_type": "markdown",
   "metadata": {},
   "source": [
    "## Fist Class Function\n",
    "\n",
    "Python function is an example of First Class function"
   ]
  },
  {
   "cell_type": "raw",
   "metadata": {},
   "source": [
    "\n",
    "A programming language is set to have first class function if it treats its function as first-class citizens.\n",
    "\n",
    "first-class citizens/objects in a programming language is an entity that support all the operations that are generally\n",
    "available to other entities. operations as follows  \n",
    "\n",
    "\n",
    "1 . assign a function to a varible\n",
    "\n",
    "    def square(num):\n",
    "        return num * num    \n",
    "    f = square # without paranthese\n",
    "    \n",
    "2.  pass function as an argument\n",
    "\n",
    "        def square(num):\n",
    "            return num * num \n",
    "            \n",
    "        def cube(num):\n",
    "             return num ** 3\n",
    "             \n",
    "        def my_map(func, arg_list):\n",
    "            result = []\n",
    "            for arg in arg_list:\n",
    "               result.append(func(arg))\n",
    "            return result\n",
    "        \n",
    "3.  returned from a function like decorator"
   ]
  },
  {
   "cell_type": "code",
   "execution_count": null,
   "metadata": {},
   "outputs": [],
   "source": []
  },
  {
   "cell_type": "code",
   "execution_count": null,
   "metadata": {},
   "outputs": [],
   "source": [
    "#assign function to a variable\n",
    "\n",
    "def square(num):\n",
    "        return num * num    \n",
    "f = square # without paranthese"
   ]
  },
  {
   "cell_type": "code",
   "execution_count": null,
   "metadata": {},
   "outputs": [],
   "source": [
    "f(5)"
   ]
  },
  {
   "cell_type": "markdown",
   "metadata": {},
   "source": [
    "## Map\n",
    "\n",
    "map() function returns a map object(which is an iterator) of the results after applying the given function to each item of a given iterable (list, tuple etc.).\n",
    "\n",
    "map(int,list)\n",
    "\n",
    "so if you have an iterable data and you want apply a function to each element of the data, we can use map(func,iterabledatacollection)"
   ]
  },
  {
   "cell_type": "code",
   "execution_count": null,
   "metadata": {},
   "outputs": [],
   "source": [
    "#pass function as an argument\n",
    "\n",
    "def square(num):\n",
    "    return num * num \n",
    "\n",
    "def cube(num):\n",
    "    return num ** 3\n",
    "\n",
    "def my_map(func, arg_list):\n",
    "    result = []\n",
    "    for arg in arg_list:\n",
    "        result.append(func(arg))\n",
    "    return result"
   ]
  },
  {
   "cell_type": "code",
   "execution_count": null,
   "metadata": {},
   "outputs": [],
   "source": [
    "nums = [1,2,4,7,8,9]\n",
    "my_map(cube,nums)"
   ]
  },
  {
   "cell_type": "code",
   "execution_count": null,
   "metadata": {},
   "outputs": [],
   "source": [
    "#return from a function \n",
    "\n",
    "def html_tag(tag):\n",
    "\n",
    "    def wrap_text(msg):\n",
    "        print('<{0}>{1}</{0}>'.format(tag, msg))\n",
    "\n",
    "    return wrap_text\n",
    "\n",
    "print_h1 = html_tag('h1')\n",
    "print_h1('Test Headline!')\n",
    "print_h1('Another Headline!')\n",
    "\n",
    "print_p = html_tag('p')\n",
    "print_p('Test Paragraph!')"
   ]
  },
  {
   "cell_type": "code",
   "execution_count": null,
   "metadata": {},
   "outputs": [],
   "source": []
  },
  {
   "cell_type": "code",
   "execution_count": null,
   "metadata": {},
   "outputs": [],
   "source": [
    "list(filter(lambda x:x>5,range(8)))  #fitler only returns the values for which the condition is true"
   ]
  },
  {
   "cell_type": "code",
   "execution_count": null,
   "metadata": {},
   "outputs": [],
   "source": [
    "list(map(lambda x:x>5,range(8)))"
   ]
  },
  {
   "cell_type": "code",
   "execution_count": null,
   "metadata": {},
   "outputs": [],
   "source": [
    "list(map(lambda x:x*x,range(8)))"
   ]
  },
  {
   "cell_type": "code",
   "execution_count": null,
   "metadata": {},
   "outputs": [],
   "source": []
  },
  {
   "cell_type": "code",
   "execution_count": null,
   "metadata": {},
   "outputs": [],
   "source": []
  },
  {
   "cell_type": "code",
   "execution_count": null,
   "metadata": {},
   "outputs": [],
   "source": []
  },
  {
   "cell_type": "markdown",
   "metadata": {},
   "source": [
    "## Iterators"
   ]
  },
  {
   "cell_type": "code",
   "execution_count": null,
   "metadata": {},
   "outputs": [],
   "source": [
    "Iterator objects can be interated upon given limit.\n",
    "The iterator protocol for Python declares that we must make use of two functions to build an iterator- iter() and next().\n",
    "__iter__() : this method returns an iterator object\n",
    "__next__() : this method retuens the next element in the sequence of the object\n",
    "    \n",
    "\n",
    "data = [1,2,3,4]\n",
    "\n",
    "iter_object = iter(data)\n",
    "\n",
    "next(iter_object)\n",
    "\n"
   ]
  },
  {
   "cell_type": "code",
   "execution_count": null,
   "metadata": {},
   "outputs": [],
   "source": [
    "data = [1,2,3,4]\n",
    "\n",
    "iter_object = iter(data)\n",
    "\n",
    "print(f\"{next(iter_object)}{next(iter_object)}{next(iter_object)}{next(iter_object)}\")\n"
   ]
  },
  {
   "cell_type": "code",
   "execution_count": null,
   "metadata": {},
   "outputs": [],
   "source": []
  },
  {
   "cell_type": "markdown",
   "metadata": {},
   "source": [
    "## Generator"
   ]
  },
  {
   "cell_type": "raw",
   "metadata": {},
   "source": [
    "Generator are a way to implement the iterators.\n",
    "\n",
    "If a function is using Yeild keyword then that function is a genetor.\n",
    "like range() is a generator.\n",
    "\n",
    "here, the values are generated at once but release only when called for.\n",
    "\n",
    "Yield basically is used to return a value from the function to the caller, when it offers a value it pauses the execution at that point and then waits for the caller to receive the value and then it resumes the operation.\n",
    "\n",
    "So Instead of having to compute an entire series of values upfront, the generator computes one value and waits until the next value is called for.\n",
    "\n",
    "at the end of the values the an STOPITERATION exception is automatically raised."
   ]
  },
  {
   "cell_type": "code",
   "execution_count": null,
   "metadata": {},
   "outputs": [],
   "source": [
    "def fibGenerate(n):\n",
    "    a, b = 0, 1\n",
    "    for i in range(n):\n",
    "        yield a\n",
    "        a, b = b, a + b"
   ]
  },
  {
   "cell_type": "code",
   "execution_count": null,
   "metadata": {},
   "outputs": [],
   "source": [
    "def fibReturn(n):\n",
    "    a, b = 0, 1\n",
    "    series=[]\n",
    "    for i in range(n):\n",
    "        series.append(a)\n",
    "        a, b = b, a + b\n",
    "    return series"
   ]
  },
  {
   "cell_type": "code",
   "execution_count": null,
   "metadata": {},
   "outputs": [],
   "source": []
  },
  {
   "cell_type": "code",
   "execution_count": null,
   "metadata": {},
   "outputs": [],
   "source": []
  },
  {
   "cell_type": "markdown",
   "metadata": {},
   "source": [
    "## Range"
   ]
  },
  {
   "cell_type": "raw",
   "metadata": {},
   "source": [
    "range(start, stop[, step])\n"
   ]
  },
  {
   "cell_type": "code",
   "execution_count": null,
   "metadata": {},
   "outputs": [],
   "source": [
    "print(\"Printing All even numbers between 2 and 10 using range()\")\n",
    "for i in range(2, 10, 2):\n",
    "    print(i, end=', ')"
   ]
  },
  {
   "cell_type": "code",
   "execution_count": null,
   "metadata": {},
   "outputs": [],
   "source": []
  },
  {
   "cell_type": "markdown",
   "metadata": {},
   "source": [
    "Print()\n",
    "\n",
    "By default, the value of this parameter is '\\n', i.e. the new line character."
   ]
  },
  {
   "cell_type": "code",
   "execution_count": null,
   "metadata": {},
   "outputs": [],
   "source": []
  },
  {
   "cell_type": "markdown",
   "metadata": {},
   "source": [
    "## Basic Data Structures in python:\n",
    "    \n",
    "There are four built-in data structures in Python - list, tuple, dictionary and set."
   ]
  },
  {
   "cell_type": "raw",
   "metadata": {},
   "source": [
    "Dictionary :\n",
    "    \n",
    "Dictionary keys have to be an object that can be assigned a hash value. These objects are immutable, like tuples or strings. They cannot be changed after the fact.\n",
    "\n",
    "Mutable objects like lists, sets and dictionaries cannot be assigned as a key because they can be changed later on without creating a copy of themselves.\n",
    "\n",
    "This is why we require keys to be both unique and immutable.\n",
    "\n",
    "\n",
    "Python dictionaries are implemented as a hash table behind the scenes. The dictionary uses each key’s hash function to change some of the key’s information into an integer known as a hash value.\n",
    "\n",
    "\n",
    "The hash value tells you which bucket that key-value pair should be placed in. This way every time you need to lookup or find that key-value pair, you know exactly which bucket to search. That is how keys save you time when trying to lookup a value.\n",
    "\n",
    "\n",
    "\n",
    "We could also use dictionaries as values.\n",
    "\n"
   ]
  },
  {
   "cell_type": "code",
   "execution_count": null,
   "metadata": {},
   "outputs": [],
   "source": []
  },
  {
   "cell_type": "markdown",
   "metadata": {},
   "source": [
    "## Modules in Python:"
   ]
  },
  {
   "cell_type": "raw",
   "metadata": {},
   "source": [
    "A module allows you to logically organize your Python code. Grouping related code into a module makes the code easier to understand and use. A module is a Python object with arbitrarily named attributes that you can bind and reference.\n",
    "\n",
    "Simply, a module is a file consisting of Python code. A module can define functions, classes and variables. A module can also include runnable code.\n",
    "\n",
    "modules can be imported to other python codes too.\n",
    "\n",
    "from module import method "
   ]
  },
  {
   "cell_type": "code",
   "execution_count": null,
   "metadata": {},
   "outputs": [],
   "source": []
  },
  {
   "cell_type": "markdown",
   "metadata": {},
   "source": [
    "## PYTHONPATH"
   ]
  },
  {
   "cell_type": "raw",
   "metadata": {},
   "source": [
    "so if u want to access the command prompt or shell for python.\n",
    "after installing python we need to set the python for python to be recognised.\n",
    "\n",
    "\n",
    "The Path variable lists the directories that will be searched for executables when you type a command in the command prompt. By adding the path to the Python executable, you will be able to access python.exe by typing the python keyword \n",
    "\n",
    "(you won’t need to specify the full path to the program).\n",
    "set path = \"\" # path of python\n",
    "\n",
    "PYTHONPATH is the variable that tells the interpreter where to locate the module files imported into a program.\n",
    "Hence, it must include the Python source library directory and the directories containing Python source code."
   ]
  },
  {
   "cell_type": "code",
   "execution_count": null,
   "metadata": {},
   "outputs": [],
   "source": [
    "c drive > users > appdata > local > programs > python > python37\n",
    "c drive > users > appdata > local > programs > python > python37 > scripts\n",
    "\n",
    "take these 2 paths and add to the environment variable in mycomputer> properties>advance stting> add path\n",
    "\n"
   ]
  },
  {
   "cell_type": "code",
   "execution_count": null,
   "metadata": {},
   "outputs": [],
   "source": []
  },
  {
   "cell_type": "code",
   "execution_count": null,
   "metadata": {},
   "outputs": [],
   "source": []
  },
  {
   "cell_type": "markdown",
   "metadata": {},
   "source": [
    "## Classes"
   ]
  },
  {
   "cell_type": "raw",
   "metadata": {},
   "source": [
    "Python is an object oriented programming language.\n",
    "Almost everything in Python is an object, with its properties and methods.\n",
    "A Class is like an object constructor, or a \"blueprint\" for creating objects.\n",
    "\n",
    "class allows us to logically group our data and functions that means attributes and methods and allow us to use them as needed.\n",
    "\n",
    "class serves as a blueprint/design of the object.\n",
    "all the objects are instances of a class.\n"
   ]
  },
  {
   "cell_type": "code",
   "execution_count": null,
   "metadata": {},
   "outputs": [],
   "source": [
    "class Computer:\n",
    "    def config(self):\n",
    "        print(\"something\")\n"
   ]
  },
  {
   "cell_type": "raw",
   "metadata": {},
   "source": [
    "comp1 = Computer()  #comp1 is an instanc/object of class Computer"
   ]
  },
  {
   "cell_type": "raw",
   "metadata": {},
   "source": [
    "a = 5 # here a is an instance of class int"
   ]
  },
  {
   "cell_type": "markdown",
   "metadata": {},
   "source": [
    "a ='gau' # here a is an insatnace of class string"
   ]
  },
  {
   "cell_type": "markdown",
   "metadata": {},
   "source": [
    "Variables are objects of the class of which they they hold data"
   ]
  },
  {
   "cell_type": "code",
   "execution_count": null,
   "metadata": {},
   "outputs": [],
   "source": []
  },
  {
   "cell_type": "markdown",
   "metadata": {},
   "source": [
    "we can call a method by 2 ways:\n",
    "    \n",
    "    1. create an object of the class where the method is defined\n",
    "        com1 = Computer() #com1 is the instance of the class Computer\n",
    "        com1.config()\n",
    "    2. use the class name to access the method \n",
    "        #classname.methodname\n",
    "        Computer.config(com1)"
   ]
  },
  {
   "cell_type": "code",
   "execution_count": null,
   "metadata": {},
   "outputs": [],
   "source": []
  },
  {
   "cell_type": "code",
   "execution_count": null,
   "metadata": {},
   "outputs": [],
   "source": []
  },
  {
   "cell_type": "markdown",
   "metadata": {},
   "source": [
    "## Differentiate between deep and shallow copy."
   ]
  },
  {
   "cell_type": "raw",
   "metadata": {},
   "source": [
    "A deep copy copies an object into another. This means that if you make a change to a copy of an object, it won’t affect the original object. In Python, we use the function deepcopy() for this, and we import the module copy. "
   ]
  },
  {
   "cell_type": "code",
   "execution_count": null,
   "metadata": {},
   "outputs": [],
   "source": [
    "import copy"
   ]
  },
  {
   "cell_type": "code",
   "execution_count": null,
   "metadata": {},
   "outputs": [],
   "source": [
    "list1=['a','b','c']"
   ]
  },
  {
   "cell_type": "code",
   "execution_count": null,
   "metadata": {},
   "outputs": [],
   "source": [
    "list2=copy.deepcopy(list1)"
   ]
  },
  {
   "cell_type": "code",
   "execution_count": null,
   "metadata": {},
   "outputs": [],
   "source": [
    "list2"
   ]
  },
  {
   "cell_type": "code",
   "execution_count": null,
   "metadata": {},
   "outputs": [],
   "source": [
    "list2.append('d')"
   ]
  },
  {
   "cell_type": "code",
   "execution_count": null,
   "metadata": {},
   "outputs": [],
   "source": [
    "list1"
   ]
  },
  {
   "cell_type": "code",
   "execution_count": null,
   "metadata": {},
   "outputs": [],
   "source": [
    "list2"
   ]
  },
  {
   "cell_type": "code",
   "execution_count": null,
   "metadata": {},
   "outputs": [],
   "source": []
  },
  {
   "cell_type": "raw",
   "metadata": {},
   "source": [
    "A shallow copy, however, copies one object’s reference to another. So, if we make a change in the copy, it will affect the original object. For this, we have the function copy(). "
   ]
  },
  {
   "cell_type": "code",
   "execution_count": null,
   "metadata": {},
   "outputs": [],
   "source": [
    "list2=copy.copy(list1)"
   ]
  },
  {
   "cell_type": "code",
   "execution_count": null,
   "metadata": {},
   "outputs": [],
   "source": [
    "list1"
   ]
  },
  {
   "cell_type": "code",
   "execution_count": null,
   "metadata": {},
   "outputs": [],
   "source": [
    "list2"
   ]
  },
  {
   "cell_type": "code",
   "execution_count": null,
   "metadata": {},
   "outputs": [],
   "source": [
    "list2.append('5')"
   ]
  },
  {
   "cell_type": "code",
   "execution_count": null,
   "metadata": {},
   "outputs": [],
   "source": [
    "list1"
   ]
  },
  {
   "cell_type": "code",
   "execution_count": null,
   "metadata": {},
   "outputs": [],
   "source": [
    "list2"
   ]
  },
  {
   "cell_type": "code",
   "execution_count": null,
   "metadata": {},
   "outputs": [],
   "source": []
  },
  {
   "cell_type": "code",
   "execution_count": null,
   "metadata": {},
   "outputs": [],
   "source": []
  },
  {
   "cell_type": "code",
   "execution_count": null,
   "metadata": {},
   "outputs": [],
   "source": []
  },
  {
   "cell_type": "markdown",
   "metadata": {},
   "source": [
    "## __**args * **kwargs__"
   ]
  },
  {
   "cell_type": "raw",
   "metadata": {},
   "source": [
    " *args and **kwargs?\n",
    "\n",
    "def add(a,b): \n",
    "    return sum(a,b) * 0.5\n",
    "    \n",
    "    a and b are positional arguments\n",
    "\n",
    "In cases when we don’t know how many arguments will be passed to a function, like when we want to pass a list or a tuple of values, we use *args.\n",
    "\n",
    "*args are a tuple of arguments, alway use single star and then args\n",
    "\n",
    "def add(*args):\n",
    "    return sum(*args) * 0.5\n",
    "    \n",
    "    \n",
    "def myfunc(*args):\n",
    "    for item in args:\n",
    "        print(item)"
   ]
  },
  {
   "cell_type": "code",
   "execution_count": null,
   "metadata": {},
   "outputs": [],
   "source": [
    "def func(*args):\n",
    "    for i in args:\n",
    "        print(i)\n"
   ]
  },
  {
   "cell_type": "code",
   "execution_count": null,
   "metadata": {},
   "outputs": [],
   "source": [
    "func(3,2,1,4,7)"
   ]
  },
  {
   "cell_type": "markdown",
   "metadata": {},
   "source": [
    "__**kwargs__ takes keyword arguments when we don’t know how many there will be.\n",
    "\n",
    "**kwargs returns a dictionary.\n"
   ]
  },
  {
   "cell_type": "code",
   "execution_count": null,
   "metadata": {},
   "outputs": [],
   "source": [
    "def func(**kwargs):\n",
    "    for i in kwargs:\n",
    "        print(i,kwargs[i])\n"
   ]
  },
  {
   "cell_type": "code",
   "execution_count": null,
   "metadata": {},
   "outputs": [],
   "source": [
    "func(a=1,b=2,c=7)"
   ]
  },
  {
   "cell_type": "code",
   "execution_count": null,
   "metadata": {},
   "outputs": [],
   "source": []
  },
  {
   "cell_type": "raw",
   "metadata": {},
   "source": [
    "we can use both args and kwargs together"
   ]
  },
  {
   "cell_type": "code",
   "execution_count": null,
   "metadata": {},
   "outputs": [],
   "source": []
  },
  {
   "cell_type": "code",
   "execution_count": null,
   "metadata": {},
   "outputs": [],
   "source": [
    "def myfunc(*args,**kwargs):\n",
    "    print(f\"I would like {args[0]} {kwargs['food']}\")\n",
    "    "
   ]
  },
  {
   "cell_type": "code",
   "execution_count": null,
   "metadata": {},
   "outputs": [],
   "source": []
  },
  {
   "cell_type": "code",
   "execution_count": null,
   "metadata": {},
   "outputs": [],
   "source": [
    "myfunc(10,20,30,fruit='mango',food='chapati')"
   ]
  },
  {
   "cell_type": "code",
   "execution_count": null,
   "metadata": {},
   "outputs": [],
   "source": []
  },
  {
   "cell_type": "code",
   "execution_count": null,
   "metadata": {},
   "outputs": [],
   "source": []
  },
  {
   "cell_type": "markdown",
   "metadata": {},
   "source": [
    "## JSON"
   ]
  },
  {
   "cell_type": "raw",
   "metadata": {},
   "source": [
    "- json is javascript object notation\n",
    "- this is a data representatio format\n",
    "\n",
    "JSON stands for JavaScript Object Notation. It is a highly popular data format, and it stores data into NoSQL databases. JSON is generally built on the following two structures:\n",
    "\n",
    "A collection of <name,value> pairs\n",
    "An ordered list of values.\n",
    "Python supports JSON parsers. In fact, JSON-based data is internally represented as a dictionary in Python. To convert JSON data into Python data, we use the load() function from the JSON module.\n",
    "\n",
    " JSON objects are surrounded by curly braces {}. JSON objects are written in key/value pairs. Keys must be strings, and values must be a valid JSON data type (string, number, object, array, boolean or null)."
   ]
  },
  {
   "cell_type": "raw",
   "metadata": {},
   "source": [
    "types in json\n",
    "\n",
    "JSON                                                      Python\n",
    "\n",
    "\n",
    "string              -  \"Hello World\"                              str                                                           \n",
    "numbers             - 10 10.2 -30 1.1e2                           int,float\n",
    "booleans            - true , false                                True,False\n",
    "null                - null                                        None\n",
    "arrays              - [1,2,3] [\"hello\",\"world\"]                   list\n",
    "ojects              - {\"key\":\"value\"} {\"age\":30}                  dict"
   ]
  },
  {
   "cell_type": "code",
   "execution_count": null,
   "metadata": {},
   "outputs": [],
   "source": [
    "import json"
   ]
  },
  {
   "cell_type": "raw",
   "metadata": {},
   "source": [
    "for python we can user json\n",
    "we can load json format to python objects\n",
    "\n",
    "json.load() #loding from a json file\n",
    "json.loads() #loadind from a json string\n",
    "and we can dump python objects to json file.\n",
    "\n",
    "json.dump() #for file dump\n",
    "json.dumps  #to dump string\n",
    "\n"
   ]
  },
  {
   "cell_type": "code",
   "execution_count": null,
   "metadata": {},
   "outputs": [],
   "source": []
  },
  {
   "cell_type": "code",
   "execution_count": null,
   "metadata": {},
   "outputs": [],
   "source": [
    "with open(r\"C:\\Users\\Gaurav Sharma\\Desktop\\example_1.json\") as f:\n",
    "    data = json.load(f)"
   ]
  },
  {
   "cell_type": "code",
   "execution_count": null,
   "metadata": {},
   "outputs": [],
   "source": [
    "data.keys()"
   ]
  },
  {
   "cell_type": "code",
   "execution_count": null,
   "metadata": {},
   "outputs": [],
   "source": [
    "data['fruit'] = \"Sharma\""
   ]
  },
  {
   "cell_type": "code",
   "execution_count": null,
   "metadata": {},
   "outputs": [],
   "source": [
    "data"
   ]
  },
  {
   "cell_type": "code",
   "execution_count": null,
   "metadata": {},
   "outputs": [],
   "source": [
    "d = {'name':'gaurav','age':29}"
   ]
  },
  {
   "cell_type": "code",
   "execution_count": null,
   "metadata": {},
   "outputs": [],
   "source": [
    "data.update(d) #to add to json file"
   ]
  },
  {
   "cell_type": "code",
   "execution_count": null,
   "metadata": {},
   "outputs": [],
   "source": [
    "data.popitem() #this will remove the last item and return that item\n"
   ]
  },
  {
   "cell_type": "code",
   "execution_count": null,
   "metadata": {},
   "outputs": [],
   "source": [
    "data.pop('fruit') #this will remove the item with the key supplied "
   ]
  },
  {
   "cell_type": "code",
   "execution_count": null,
   "metadata": {},
   "outputs": [],
   "source": [
    "data"
   ]
  },
  {
   "cell_type": "code",
   "execution_count": null,
   "metadata": {},
   "outputs": [],
   "source": [
    "type(data)"
   ]
  },
  {
   "cell_type": "markdown",
   "metadata": {},
   "source": [
    "## dump python object to json file"
   ]
  },
  {
   "cell_type": "code",
   "execution_count": null,
   "metadata": {},
   "outputs": [],
   "source": [
    "with open(r\"C:\\Users\\Gaurav Sharma\\Desktop\\example_2\",'wt') as f:\n",
    "    json.dump(data,f,indent=2)"
   ]
  },
  {
   "cell_type": "code",
   "execution_count": null,
   "metadata": {},
   "outputs": [],
   "source": [
    "with open(r\"C:\\Users\\Gaurav Sharma\\Desktop\\example_3.json\") as f:\n",
    "    data=json.load(f)"
   ]
  },
  {
   "cell_type": "code",
   "execution_count": null,
   "metadata": {},
   "outputs": [],
   "source": [
    "data"
   ]
  },
  {
   "cell_type": "code",
   "execution_count": null,
   "metadata": {},
   "outputs": [],
   "source": [
    "data['quiz']['sport']"
   ]
  },
  {
   "cell_type": "code",
   "execution_count": null,
   "metadata": {},
   "outputs": [],
   "source": [
    "data"
   ]
  },
  {
   "cell_type": "code",
   "execution_count": null,
   "metadata": {},
   "outputs": [],
   "source": [
    "data['quiz']['sport']"
   ]
  },
  {
   "cell_type": "code",
   "execution_count": null,
   "metadata": {},
   "outputs": [],
   "source": []
  },
  {
   "cell_type": "markdown",
   "metadata": {},
   "source": [
    "## monkey patching"
   ]
  },
  {
   "cell_type": "raw",
   "metadata": {},
   "source": [
    "In Python, the term monkey patch refers to dynamic (or run-time) modifications of a class or module. In Python, we can actually change the behavior of code at run-time.\n",
    "It's simply the dynamic replacement of attributes at runtime."
   ]
  },
  {
   "cell_type": "raw",
   "metadata": {},
   "source": [
    "The most common usecase is adding a workaround for a bug in a module or class when you can't replace the original code. In this case you replace the \"wrong\" code through monkey patching with an implementation inside your own module/package.\n",
    "\n",
    "1.Testing \n",
    "2.Workaround for bugs in third-party code\n",
    "3.changing the standard module(customise them)\n"
   ]
  },
  {
   "cell_type": "raw",
   "metadata": {},
   "source": []
  },
  {
   "cell_type": "code",
   "execution_count": null,
   "metadata": {},
   "outputs": [],
   "source": [
    "class A:\n",
    "    def func(self):\n",
    "        print(\"func() is being called\")"
   ]
  },
  {
   "cell_type": "code",
   "execution_count": null,
   "metadata": {},
   "outputs": [],
   "source": [
    "\n",
    "def monkey_f():\n",
    "    print(\"This is monkey function\")"
   ]
  },
  {
   "cell_type": "code",
   "execution_count": null,
   "metadata": {},
   "outputs": [],
   "source": []
  },
  {
   "cell_type": "code",
   "execution_count": null,
   "metadata": {},
   "outputs": [],
   "source": [
    "A.func = monkey_f #this is patching "
   ]
  },
  {
   "cell_type": "code",
   "execution_count": null,
   "metadata": {},
   "outputs": [],
   "source": [
    "A.func()"
   ]
  },
  {
   "cell_type": "code",
   "execution_count": null,
   "metadata": {},
   "outputs": [],
   "source": []
  },
  {
   "cell_type": "markdown",
   "metadata": {},
   "source": [
    "## Methods - Instance methods(deals with instance variables) -accessors and mutators use self keyword\n",
    "## Class methods(deals with class variables) - use cls keyword and use @classmethod decorator\n",
    "## Static methods - @staticmethod"
   ]
  },
  {
   "cell_type": "markdown",
   "metadata": {},
   "source": [
    "## accessors they only get the values"
   ]
  },
  {
   "cell_type": "markdown",
   "metadata": {},
   "source": [
    "## mutators - they set the values\n",
    "we can set the values using __init__ and set()"
   ]
  },
  {
   "cell_type": "code",
   "execution_count": null,
   "metadata": {},
   "outputs": [],
   "source": []
  },
  {
   "cell_type": "code",
   "execution_count": null,
   "metadata": {},
   "outputs": [],
   "source": []
  },
  {
   "cell_type": "code",
   "execution_count": null,
   "metadata": {},
   "outputs": [],
   "source": []
  },
  {
   "cell_type": "code",
   "execution_count": null,
   "metadata": {},
   "outputs": [],
   "source": []
  },
  {
   "cell_type": "code",
   "execution_count": null,
   "metadata": {},
   "outputs": [],
   "source": []
  },
  {
   "cell_type": "code",
   "execution_count": null,
   "metadata": {},
   "outputs": [],
   "source": []
  },
  {
   "cell_type": "markdown",
   "metadata": {},
   "source": [
    "## Duck Typing"
   ]
  },
  {
   "cell_type": "raw",
   "metadata": {},
   "source": [
    "In this lesson, you’ll learn about duck typing. This term comes from the saying “If it walks like a duck, and it quacks like a duck, then it must be a duck.” (There are other variations).\n",
    "\n",
    "Its easy to ask for forgiveness than permission(EAFP), here we just try to access a method if it works great and if it doesnt just handle the exception\n",
    "\n",
    "Duck typing is a concept related to dynamic typing, where the type or the class of an object is less important than the methods it defines. \n",
    "When you use duck typing, you do not check types at all. \n",
    "Instead, you check for the presence of a given method or attribute."
   ]
  },
  {
   "cell_type": "code",
   "execution_count": null,
   "metadata": {},
   "outputs": [],
   "source": [
    "for instance you can call len() on any Python object that defines a .__len__() method:"
   ]
  },
  {
   "cell_type": "raw",
   "metadata": {},
   "source": [
    "In order for you to call len(obj), the only real constraint on obj is that it must define a .__len__() method. Otherwise, the object can be of types as different as str, list, dict, or TheHobbit."
   ]
  },
  {
   "cell_type": "code",
   "execution_count": null,
   "metadata": {},
   "outputs": [],
   "source": [
    "Here you dont make any checks before performing any action,in case things go wrong you handle the exception,like:\n",
    "so here we just try to access location which doesnt present, but rather checking it first we handle the exception instead"
   ]
  },
  {
   "cell_type": "code",
   "execution_count": null,
   "metadata": {
    "scrolled": true
   },
   "outputs": [],
   "source": [
    "p = {'name':'gaurav','age':30}\n",
    "try:\n",
    "    print(f\"the person is {p['name']} with age {p['age']}\")\n",
    "except KeyError as e:\n",
    "    print(f\"missing {e} key\")"
   ]
  },
  {
   "cell_type": "code",
   "execution_count": null,
   "metadata": {
    "scrolled": true
   },
   "outputs": [],
   "source": [
    "try:\n",
    "    print(f\"the person is {p['name']} with age {p['age']} and location {p['location']}\")\n",
    "except KeyError as e:\n",
    "    print(f\"missing {e} key\")"
   ]
  },
  {
   "cell_type": "code",
   "execution_count": null,
   "metadata": {},
   "outputs": [],
   "source": []
  },
  {
   "cell_type": "code",
   "execution_count": null,
   "metadata": {},
   "outputs": [],
   "source": []
  },
  {
   "cell_type": "code",
   "execution_count": null,
   "metadata": {},
   "outputs": [],
   "source": []
  },
  {
   "cell_type": "markdown",
   "metadata": {},
   "source": [
    "## Exception handling"
   ]
  },
  {
   "cell_type": "raw",
   "metadata": {},
   "source": [
    "if you suspect that particular code may throw some error, you would want to put in under try and then throw custom error to the user. in except block you should estimate all the errors that may rise in the execution of the code and should handle it.\n",
    "\n",
    "The use of the else clause is better than adding additional code to the try clause because it avoids accidentally catching an exception that wasn’t raised by the code being protected by the try ... except statement.\n",
    "\n",
    "the \"else\" block will only execute  when there is no exception in try.\n",
    "\n",
    "the finally block will execute no matter  if the try block raises an error or not:\n",
    "This can be useful to close objects and clean up resources.\n",
    "you should not close your file in finally block, because if the file doesnt exist it will throw and error but since finally has file.close() then it will be a proble..\n",
    "but you can close the database connection if u want.\n",
    "\n",
    "\n",
    "try:\n",
    "    pass\n",
    "except Exception:\n",
    "    pass\n",
    "else:\n",
    "    pass\n",
    "finally:\n",
    "    pass\n",
    "    \n",
    "    \n",
    "    \n",
    "try:\n",
    "    do_init_stuff()\n",
    "except:\n",
    "    handle_init_suff_execption()\n",
    "else:\n",
    "    try:\n",
    "        do_middle_stuff()\n",
    "    except:\n",
    "        handle_middle_stuff_exception()"
   ]
  },
  {
   "cell_type": "code",
   "execution_count": null,
   "metadata": {},
   "outputs": [],
   "source": [
    "try:\n",
    "    f=open(r\"C:\\Users\\Gaurav Sharma\\Desktop\\example_2\",'wt')\n",
    "except FileNotFoundError as e:\n",
    "    print(e)\n",
    "except Exception as e:\n",
    "    print(e)\n",
    "else:         #this code will be executed when the try block dont throw exception\n",
    "    print(f.read())\n",
    "    f.close()\n",
    "finally:\n",
    "    pass"
   ]
  },
  {
   "cell_type": "code",
   "execution_count": null,
   "metadata": {},
   "outputs": [],
   "source": []
  },
  {
   "cell_type": "markdown",
   "metadata": {},
   "source": [
    "## REST"
   ]
  },
  {
   "cell_type": "raw",
   "metadata": {},
   "source": [
    "1. Uniform interface : Define consistent apis\n",
    "2. Client–server : Independent client and independent server\n",
    "3. Stateless : Server do not store any client data. Client manages the session token etc\n",
    "\n",
    "4. Cacheable : \n",
    "    Caching is the ability to store copies of frequently accessed data in several places along the request-response path. When a consumer requests a resource representation, the request goes through a cache or a series of caches (local cache, proxy cache, or reverse proxy) toward the service hosting the resource. If any of the caches along the request path has a fresh copy of the requested representation, it uses that copy to satisfy the request. If none of the caches can satisfy the request, the request travels all the way to the service (or origin server as it is formally known).\n",
    "    \n",
    "5. Layered system.\n",
    "6. Code on demand (optional)"
   ]
  },
  {
   "cell_type": "code",
   "execution_count": null,
   "metadata": {},
   "outputs": [],
   "source": []
  },
  {
   "cell_type": "markdown",
   "metadata": {},
   "source": [
    "## RESTful API (WebServices Web APIs)"
   ]
  },
  {
   "cell_type": "raw",
   "metadata": {},
   "source": [
    "The REST acronym stands for Representational State Transfer, which is an architectural design. Usually when we use the term RESTful, we are referring to an application that implements the REST architectural design.\n",
    "\n"
   ]
  },
  {
   "cell_type": "raw",
   "metadata": {},
   "source": [
    "API stands for Application Programming Interface, which is a software application that we interact programmatically, instead of using a graphical interface. In other words, we interact with it at a lower level at the source code, writing functions and routines."
   ]
  },
  {
   "cell_type": "code",
   "execution_count": null,
   "metadata": {},
   "outputs": [],
   "source": []
  },
  {
   "cell_type": "raw",
   "metadata": {},
   "source": [
    "RESTful API we are referring to Web Services (or Web APIs). It’s a common way to expose parts of your application to third-parties (external applications and Websites).\n",
    "\n",
    "It can be data-oriented, in a sense that your Web service (the RESTful API), simply make available the information you store in your databases using a common format, such as XML or JSON. This way, an external application can interact with your application and your data, without having to connect directly into your database. "
   ]
  },
  {
   "cell_type": "raw",
   "metadata": {},
   "source": [
    "https://simpleisbetterthancomplex.com/tutorial/2018/02/03/how-to-use-restful-apis-with-django.html"
   ]
  },
  {
   "cell_type": "code",
   "execution_count": null,
   "metadata": {},
   "outputs": [],
   "source": []
  },
  {
   "cell_type": "code",
   "execution_count": null,
   "metadata": {},
   "outputs": [],
   "source": [
    "As developers, we can be at either sides of the equation. We can be both the provider or the consumer of an API."
   ]
  },
  {
   "cell_type": "code",
   "execution_count": null,
   "metadata": {},
   "outputs": [],
   "source": []
  },
  {
   "cell_type": "raw",
   "metadata": {},
   "source": [
    "if you want to provide a REST API, the Django REST Framework is the best option. It make easy to expose parts of your application as a REST API."
   ]
  },
  {
   "cell_type": "code",
   "execution_count": null,
   "metadata": {},
   "outputs": [],
   "source": []
  },
  {
   "cell_type": "code",
   "execution_count": null,
   "metadata": {},
   "outputs": [],
   "source": []
  },
  {
   "cell_type": "markdown",
   "metadata": {},
   "source": [
    "## Consuming API\n",
    "\n"
   ]
  },
  {
   "cell_type": "code",
   "execution_count": null,
   "metadata": {},
   "outputs": [],
   "source": [
    "Consuming an API is slow.\n",
    "You have no control over the API.\n",
    "APIs are usually limited by number of requests you can make.\n",
    "Secure your API keys.\n",
    "Documentation is gold."
   ]
  },
  {
   "cell_type": "code",
   "execution_count": null,
   "metadata": {},
   "outputs": [],
   "source": []
  },
  {
   "cell_type": "code",
   "execution_count": null,
   "metadata": {},
   "outputs": [],
   "source": [
    "import requests\n",
    "import json"
   ]
  },
  {
   "cell_type": "code",
   "execution_count": null,
   "metadata": {},
   "outputs": [],
   "source": [
    "def home(request):\n",
    "    response = requests.get('http://freegeoip.net/json/')\n",
    "    geodata = response.json()\n",
    "    return render(request, 'core/home.html', {\n",
    "        'ip': geodata['ip'],\n",
    "        'country': geodata['country_name']\n",
    "    })"
   ]
  },
  {
   "cell_type": "code",
   "execution_count": null,
   "metadata": {},
   "outputs": [],
   "source": [
    "import json\n",
    "import requests as reqs\n",
    "response = reqs.get('http://freegeoip.net/json')\n",
    "response_dict = json.loads(response.text)\n",
    "\n",
    "for i in response_dict:\n",
    "    print(\"key: \", i, \"val: \", response_dict[i])"
   ]
  },
  {
   "cell_type": "code",
   "execution_count": null,
   "metadata": {},
   "outputs": [],
   "source": []
  },
  {
   "cell_type": "code",
   "execution_count": null,
   "metadata": {},
   "outputs": [],
   "source": [
    "import json\n",
    "import requests as reqs\n",
    "\n",
    "# Make the HTTP request.\n",
    "response = reqs.get('http://demo.ckan.org/api/3/action/group_list')\n",
    "\n",
    "# Use the json module to load CKAN's response into a dictionary.\n",
    "response_dict = json.loads(response.text)\n",
    "\n",
    "for i in response_dict:\n",
    "    print(\"key: \", i, \"val: \", response_dict[i])"
   ]
  },
  {
   "cell_type": "code",
   "execution_count": null,
   "metadata": {},
   "outputs": [],
   "source": []
  },
  {
   "cell_type": "code",
   "execution_count": null,
   "metadata": {},
   "outputs": [],
   "source": []
  },
  {
   "cell_type": "code",
   "execution_count": null,
   "metadata": {},
   "outputs": [],
   "source": []
  },
  {
   "cell_type": "code",
   "execution_count": null,
   "metadata": {},
   "outputs": [],
   "source": []
  },
  {
   "cell_type": "code",
   "execution_count": null,
   "metadata": {},
   "outputs": [],
   "source": []
  },
  {
   "cell_type": "markdown",
   "metadata": {},
   "source": [
    " ## AJAX - Asynchronous JavaScript and XML"
   ]
  },
  {
   "cell_type": "raw",
   "metadata": {},
   "source": [
    "Ajax is a web developement technique used to send and receive data in the backgroundwithout refreshing the page.\n",
    "\n",
    "twitter: here we see new tweets without refreshing the page.\n",
    "beacuse it the background twitter makes a request every 10 seconds to the server to check if there are any new tweets.\n",
    "\n",
    "\n",
    "1. rather than loading the data through the typical browser http request through url bar,\n",
    "\n",
    "ajax request use javascript xmlhttprequest object to make http request behind the scene.\n",
    "\n",
    "\n",
    "var xhr=new XMLHttpResquest\n",
    "\n",
    "methods like:\n",
    "\n",
    "open send setheaders setresponse\n",
    "\n",
    "\n",
    "without reloading anything we use ajax to make request and receive the response(may be json) in the background.\n",
    "\n",
    "\n",
    "jQuery provides several methods for AJAX functionality.\n",
    "\n",
    "With the jQuery AJAX methods, you can request text, HTML, XML, or JSON from a remote server using both HTTP Get and HTTP Post - And you can load the external data directly into the selected HTML elements of your web page!\n",
    "\n",
    "\n",
    "\n",
    "$(selector).load(URL,data,callback);"
   ]
  },
  {
   "cell_type": "code",
   "execution_count": null,
   "metadata": {},
   "outputs": [],
   "source": []
  },
  {
   "cell_type": "code",
   "execution_count": null,
   "metadata": {},
   "outputs": [],
   "source": []
  },
  {
   "cell_type": "markdown",
   "metadata": {},
   "source": [
    "## Multithreading"
   ]
  },
  {
   "cell_type": "raw",
   "metadata": {},
   "source": [
    "#There are two types of tasks \n",
    "1. IO bound tasks : A program is I/O bound if it would go faster if the I/O subsystem was faster. Which exact I/O system is meant can vary;\n",
    "I typically associate it with disk, but of course networking or communication in general is common too. \n",
    "A program that looks through a huge file for some data might become I/O bound, since the bottleneck is then the reading of the data from disk , downloading\n",
    "\n",
    "\n",
    "\n",
    "\n",
    "#2. CPU bound task : A program is CPU bound if it would go faster if the CPU were faster, i.e. it spends the majority of its time simply using the CPU (doing calculations),Data crunching.\n",
    "\n",
    "#MultiThreading will be more useful in I/O bound tasks (reading/writing) where the program or task is not utilizing the cpu.\n",
    "#but since there would be overhead time because of creating thrad, deleting thread and handover of GIL.\n",
    "\n",
    "\n",
    "#MultiProcessing (run in parallel) will be more useful in CPU bound tasks.\n",
    "\n",
    "#In multithreaing the code is not being run cocurrently, although it gives an illusion. while the function is waiting for some task to get\n",
    "# executed within that time we run another function.\n",
    "\n",
    "\n",
    "import threading\n",
    "import time\n",
    "\n",
    "start = time.perf_counter() #counter\n",
    "\n",
    "\n",
    "def do_something():\n",
    "    print('Sleeping 1 second...')\n",
    "    time.sleep(1)\n",
    "    return 'Done Sleeping...'\n",
    "\n",
    "\n",
    "#creating thread\n",
    "t1 = threading.Thread(target=do_something)\n",
    "t2 = threading.Thread(target=do_something)\n",
    "\n",
    "#run thread\n",
    "t1.start()\n",
    "t2.start()\n",
    "\n",
    "#join is what causes the main thread to wait for your thread to finish\n",
    "t1.join()\n",
    "t2.join()\n",
    "\n",
    "finish = time.perf_counter()\n",
    "\n",
    "print(f'Finished in {round(finish-start, 2)} second(s)')\n",
    "\n"
   ]
  },
  {
   "cell_type": "markdown",
   "metadata": {},
   "source": [
    "## Python thread co-executor"
   ]
  },
  {
   "cell_type": "code",
   "execution_count": null,
   "metadata": {},
   "outputs": [],
   "source": []
  },
  {
   "cell_type": "code",
   "execution_count": 3,
   "metadata": {},
   "outputs": [
    {
     "name": "stdout",
     "output_type": "stream",
     "text": [
      "photo-1516117172878-fd2c41f4a759.jpg was downloaded...\n",
      "photo-1550439062-609e1531270e.jpg was downloaded...\n",
      "Finished in 86.68567769999993 seconds\n"
     ]
    }
   ],
   "source": [
    "import requests\n",
    "import time\n",
    "import concurrent.futures\n",
    "\n",
    "img_urls = [\n",
    "    'https://images.unsplash.com/photo-1516117172878-fd2c41f4a759',\n",
    "    'https://images.unsplash.com/photo-1550439062-609e1531270e'\n",
    "]\n",
    "\n",
    "t1 = time.perf_counter()\n",
    "\n",
    "\n",
    "def download_image(img_url):\n",
    "    img_bytes = requests.get(img_url).content\n",
    "    img_name = img_url.split('/')[3]\n",
    "    img_name = f'{img_name}.jpg'\n",
    "    with open(f'C:\\\\Users\\\\Gaurav Sharma\\\\Desktop\\\\{img_name}', 'wb') as img_file:\n",
    "        img_file.write(img_bytes)\n",
    "        print(f'{img_name} was downloaded...')\n",
    "\n",
    "\n",
    "with concurrent.futures.ThreadPoolExecutor() as executor:\n",
    "    executor.map(download_image, img_urls)\n",
    "\n",
    "\n",
    "t2 = time.perf_counter()\n",
    "\n",
    "print(f'Finished in {t2-t1} seconds')"
   ]
  },
  {
   "cell_type": "code",
   "execution_count": null,
   "metadata": {},
   "outputs": [],
   "source": [
    "import os\n"
   ]
  },
  {
   "cell_type": "code",
   "execution_count": null,
   "metadata": {},
   "outputs": [],
   "source": [
    "os.getcwd()"
   ]
  },
  {
   "cell_type": "code",
   "execution_count": null,
   "metadata": {},
   "outputs": [],
   "source": []
  }
 ],
 "metadata": {
  "kernelspec": {
   "display_name": "Python 3",
   "language": "python",
   "name": "python3"
  },
  "language_info": {
   "codemirror_mode": {
    "name": "ipython",
    "version": 3
   },
   "file_extension": ".py",
   "mimetype": "text/x-python",
   "name": "python",
   "nbconvert_exporter": "python",
   "pygments_lexer": "ipython3",
   "version": "3.7.3"
  }
 },
 "nbformat": 4,
 "nbformat_minor": 2
}
